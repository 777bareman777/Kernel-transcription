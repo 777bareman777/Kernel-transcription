{
 "cells": [
  {
   "cell_type": "code",
   "execution_count": 1,
   "metadata": {
    "_cell_guid": "b1076dfc-b9ad-4769-8c92-a6c4dae69d19",
    "_uuid": "8f2839f25d086af736a60e9eeb907d3b93b6e0e5",
    "execution": {
     "iopub.execute_input": "2020-09-05T12:27:03.954492Z",
     "iopub.status.busy": "2020-09-05T12:27:03.953599Z",
     "iopub.status.idle": "2020-09-05T12:27:05.545480Z",
     "shell.execute_reply": "2020-09-05T12:27:05.544538Z"
    },
    "papermill": {
     "duration": 1.636141,
     "end_time": "2020-09-05T12:27:05.545666",
     "exception": false,
     "start_time": "2020-09-05T12:27:03.909525",
     "status": "completed"
    },
    "tags": []
   },
   "outputs": [
    {
     "data": {
      "text/html": [
       "        <script type=\"text/javascript\">\n",
       "        window.PlotlyConfig = {MathJaxConfig: 'local'};\n",
       "        if (window.MathJax) {MathJax.Hub.Config({SVG: {font: \"STIX-Web\"}});}\n",
       "        if (typeof require !== 'undefined') {\n",
       "        require.undef(\"plotly\");\n",
       "        requirejs.config({\n",
       "            paths: {\n",
       "                'plotly': ['https://cdn.plot.ly/plotly-latest.min']\n",
       "            }\n",
       "        });\n",
       "        require(['plotly'], function(Plotly) {\n",
       "            window._Plotly = Plotly;\n",
       "        });\n",
       "        }\n",
       "        </script>\n",
       "        "
      ]
     },
     "metadata": {},
     "output_type": "display_data"
    }
   ],
   "source": [
    "import numpy as np\n",
    "import pandas as pd\n",
    "from pandas import Series\n",
    "import matplotlib.pyplot as plt\n",
    "import seaborn as sns\n",
    "\n",
    "# matplotlib 의 기본 scheme 말고 seaborn scheme 을 세팅하고, \n",
    "# 일일이 graph 의 font size 를 지정할 필요 없이 seaborn 의 font_scale 을 사용하면 편합니다.\n",
    "plt.style.use('seaborn')\n",
    "sns.set(font_scale=2.5) \n",
    "\n",
    "import plotly.offline as py\n",
    "py.init_notebook_mode(connected=True)\n",
    "import plotly.graph_objs as go\n",
    "import plotly.tools as tls\n",
    "\n",
    "#ignore warnings\n",
    "import warnings\n",
    "warnings.filterwarnings('ignore')\n",
    "\n",
    "\n",
    "\n",
    "%matplotlib inline\n",
    "\n",
    "df_train = pd.read_csv('../input/titanic/train.csv')\n",
    "df_test = pd.read_csv('../input/titanic/test.csv')\n",
    "df_train['FamilySize'] = df_train['SibSp'] + df_train['Parch'] + 1 # 자신을 포함해야하니 1을 더합니다\n",
    "df_test['FamilySize'] = df_test['SibSp'] + df_test['Parch'] + 1 # 자신을 포함해야하니 1을 더합니다\n",
    "\n",
    "df_test.loc[df_test.Fare.isnull(), 'Fare'] = df_test['Fare'].mean()\n",
    "\n",
    "df_train['Fare'] = df_train['Fare'].map(lambda i: np.log(i) if i > 0 else 0)\n",
    "df_test['Fare'] = df_test['Fare'].map(lambda i: np.log(i) if i > 0 else 0)"
   ]
  },
  {
   "cell_type": "markdown",
   "execution_count": null,
   "metadata": {
    "papermill": {
     "duration": 0.020045,
     "end_time": "2020-09-05T12:27:05.586510",
     "exception": false,
     "start_time": "2020-09-05T12:27:05.566465",
     "status": "completed"
    },
    "tags": []
   },
   "source": [
    "# 3. Feature engineering\n",
    "\n",
    "- 본격적인 feature engineering을 시작해보겠습니다.\n",
    "\n",
    "- 가장 먼저, dataset에 존재하는 null data를 채우려고 합니다.\n",
    "\n",
    "- 아무 숫자로 채울 수는 없고, null data를 포함하는 feature의 statistics를 참고하거나, 다른 아이디어를 짜내어 채울 수 있습니다.\n",
    "\n",
    "- null data를 어떻게 채우느냐에 따라 모델의 성능이 좌지우지될 수 있기 때문에, 신경써줘야할 부분입니다.\n",
    "\n",
    "- Feature engineering은 실제 모델의 학습에 쓰려고 하는 것이므로, train 뿐만 아니라 test도 똑같이 적용해주어야 합니다. 잊지맙시다."
   ]
  },
  {
   "cell_type": "markdown",
   "execution_count": null,
   "metadata": {
    "papermill": {
     "duration": 0.019872,
     "end_time": "2020-09-05T12:27:05.626116",
     "exception": false,
     "start_time": "2020-09-05T12:27:05.606244",
     "status": "completed"
    },
    "tags": []
   },
   "source": [
    "## 3.1 Fill Null\n",
    "\n",
    "### 3.1.1 Fill Null in Age using title\n",
    "\n",
    "- Age에는 null data가 177개나 있습니다. 이를 채울 수 있는 여러 아이디어가 있을 것인데, 여기서 우리는 title + statistics를 사용해 보겠습니다.\n",
    "\n",
    "- 영어에서는 Miss, Mrr, Mrs 같은 title이 존재합니다. 각 탑승객의 이름에는 꼭 이런 title이 들어가게 되는데 이를 사용해보겠습니다.\n",
    "\n",
    "- pandas series에는 data를 string으로 바꿔주는 str method, 거기에 정규표현식을 적용하게 해주는 extract method가 있습니다. 이를 사용하여 title을 쉽게 추출할 수 있습니다. title을 Initial column에 저장하겠습니다."
   ]
  },
  {
   "cell_type": "code",
   "execution_count": 2,
   "metadata": {
    "execution": {
     "iopub.execute_input": "2020-09-05T12:27:05.676813Z",
     "iopub.status.busy": "2020-09-05T12:27:05.675596Z",
     "iopub.status.idle": "2020-09-05T12:27:05.688208Z",
     "shell.execute_reply": "2020-09-05T12:27:05.686969Z"
    },
    "papermill": {
     "duration": 0.042976,
     "end_time": "2020-09-05T12:27:05.688430",
     "exception": false,
     "start_time": "2020-09-05T12:27:05.645454",
     "status": "completed"
    },
    "tags": []
   },
   "outputs": [],
   "source": [
    "\"\"\"\n",
    "import re\n",
    "p = re.compile(r'([A-Za-z+]+)(?=\\.)')\n",
    "vmap = np.vectorize(lambda x: p.search(x).group())\n",
    "df_train['Initial']=vmap(np.array(df_train.Name))\n",
    "df_test['Initial']=vmap(np.array(df_test.Name))\n",
    "\"\"\"\n",
    "\n",
    "df_train['Initial'] = df_train.Name.str.extract('([A-Za-z]+)\\.') #lets extract the Salutations\n",
    "df_test['Initial']= df_test.Name.str.extract('([A-Za-z]+)\\.') #lets extract the Salutations"
   ]
  },
  {
   "cell_type": "markdown",
   "execution_count": null,
   "metadata": {
    "papermill": {
     "duration": 0.024767,
     "end_time": "2020-09-05T12:27:05.737402",
     "exception": false,
     "start_time": "2020-09-05T12:27:05.712635",
     "status": "completed"
    },
    "tags": []
   },
   "source": [
    "- pandas의 crosstab을 이용하여 우리가 추출한 Initial 과 Sex 간의 count를 살펴봅시다."
   ]
  },
  {
   "cell_type": "code",
   "execution_count": 3,
   "metadata": {
    "execution": {
     "iopub.execute_input": "2020-09-05T12:27:05.811297Z",
     "iopub.status.busy": "2020-09-05T12:27:05.810193Z",
     "iopub.status.idle": "2020-09-05T12:27:06.070909Z",
     "shell.execute_reply": "2020-09-05T12:27:06.069788Z"
    },
    "papermill": {
     "duration": 0.304366,
     "end_time": "2020-09-05T12:27:06.071136",
     "exception": false,
     "start_time": "2020-09-05T12:27:05.766770",
     "status": "completed"
    },
    "tags": []
   },
   "outputs": [
    {
     "data": {
      "text/html": [
       "<style  type=\"text/css\" >\n",
       "#T_1c224b9a_ef73_11ea_9a10_0242ac130202row0_col0,#T_1c224b9a_ef73_11ea_9a10_0242ac130202row0_col1,#T_1c224b9a_ef73_11ea_9a10_0242ac130202row0_col3,#T_1c224b9a_ef73_11ea_9a10_0242ac130202row0_col4,#T_1c224b9a_ef73_11ea_9a10_0242ac130202row0_col5,#T_1c224b9a_ef73_11ea_9a10_0242ac130202row0_col7,#T_1c224b9a_ef73_11ea_9a10_0242ac130202row0_col8,#T_1c224b9a_ef73_11ea_9a10_0242ac130202row0_col12,#T_1c224b9a_ef73_11ea_9a10_0242ac130202row0_col15,#T_1c224b9a_ef73_11ea_9a10_0242ac130202row0_col16,#T_1c224b9a_ef73_11ea_9a10_0242ac130202row1_col2,#T_1c224b9a_ef73_11ea_9a10_0242ac130202row1_col6,#T_1c224b9a_ef73_11ea_9a10_0242ac130202row1_col9,#T_1c224b9a_ef73_11ea_9a10_0242ac130202row1_col10,#T_1c224b9a_ef73_11ea_9a10_0242ac130202row1_col11,#T_1c224b9a_ef73_11ea_9a10_0242ac130202row1_col13,#T_1c224b9a_ef73_11ea_9a10_0242ac130202row1_col14{\n",
       "            background-color:  #ffff66;\n",
       "            color:  #000000;\n",
       "        }#T_1c224b9a_ef73_11ea_9a10_0242ac130202row0_col2,#T_1c224b9a_ef73_11ea_9a10_0242ac130202row0_col6,#T_1c224b9a_ef73_11ea_9a10_0242ac130202row0_col9,#T_1c224b9a_ef73_11ea_9a10_0242ac130202row0_col10,#T_1c224b9a_ef73_11ea_9a10_0242ac130202row0_col11,#T_1c224b9a_ef73_11ea_9a10_0242ac130202row0_col13,#T_1c224b9a_ef73_11ea_9a10_0242ac130202row0_col14,#T_1c224b9a_ef73_11ea_9a10_0242ac130202row1_col0,#T_1c224b9a_ef73_11ea_9a10_0242ac130202row1_col1,#T_1c224b9a_ef73_11ea_9a10_0242ac130202row1_col3,#T_1c224b9a_ef73_11ea_9a10_0242ac130202row1_col4,#T_1c224b9a_ef73_11ea_9a10_0242ac130202row1_col5,#T_1c224b9a_ef73_11ea_9a10_0242ac130202row1_col7,#T_1c224b9a_ef73_11ea_9a10_0242ac130202row1_col8,#T_1c224b9a_ef73_11ea_9a10_0242ac130202row1_col12,#T_1c224b9a_ef73_11ea_9a10_0242ac130202row1_col15,#T_1c224b9a_ef73_11ea_9a10_0242ac130202row1_col16{\n",
       "            background-color:  #008066;\n",
       "            color:  #f1f1f1;\n",
       "        }</style><table id=\"T_1c224b9a_ef73_11ea_9a10_0242ac130202\" ><thead>    <tr>        <th class=\"index_name level0\" >Initial</th>        <th class=\"col_heading level0 col0\" >Capt</th>        <th class=\"col_heading level0 col1\" >Col</th>        <th class=\"col_heading level0 col2\" >Countess</th>        <th class=\"col_heading level0 col3\" >Don</th>        <th class=\"col_heading level0 col4\" >Dr</th>        <th class=\"col_heading level0 col5\" >Jonkheer</th>        <th class=\"col_heading level0 col6\" >Lady</th>        <th class=\"col_heading level0 col7\" >Major</th>        <th class=\"col_heading level0 col8\" >Master</th>        <th class=\"col_heading level0 col9\" >Miss</th>        <th class=\"col_heading level0 col10\" >Mlle</th>        <th class=\"col_heading level0 col11\" >Mme</th>        <th class=\"col_heading level0 col12\" >Mr</th>        <th class=\"col_heading level0 col13\" >Mrs</th>        <th class=\"col_heading level0 col14\" >Ms</th>        <th class=\"col_heading level0 col15\" >Rev</th>        <th class=\"col_heading level0 col16\" >Sir</th>    </tr>    <tr>        <th class=\"index_name level0\" >Sex</th>        <th class=\"blank\" ></th>        <th class=\"blank\" ></th>        <th class=\"blank\" ></th>        <th class=\"blank\" ></th>        <th class=\"blank\" ></th>        <th class=\"blank\" ></th>        <th class=\"blank\" ></th>        <th class=\"blank\" ></th>        <th class=\"blank\" ></th>        <th class=\"blank\" ></th>        <th class=\"blank\" ></th>        <th class=\"blank\" ></th>        <th class=\"blank\" ></th>        <th class=\"blank\" ></th>        <th class=\"blank\" ></th>        <th class=\"blank\" ></th>        <th class=\"blank\" ></th>    </tr></thead><tbody>\n",
       "                <tr>\n",
       "                        <th id=\"T_1c224b9a_ef73_11ea_9a10_0242ac130202level0_row0\" class=\"row_heading level0 row0\" >female</th>\n",
       "                        <td id=\"T_1c224b9a_ef73_11ea_9a10_0242ac130202row0_col0\" class=\"data row0 col0\" >0</td>\n",
       "                        <td id=\"T_1c224b9a_ef73_11ea_9a10_0242ac130202row0_col1\" class=\"data row0 col1\" >0</td>\n",
       "                        <td id=\"T_1c224b9a_ef73_11ea_9a10_0242ac130202row0_col2\" class=\"data row0 col2\" >1</td>\n",
       "                        <td id=\"T_1c224b9a_ef73_11ea_9a10_0242ac130202row0_col3\" class=\"data row0 col3\" >0</td>\n",
       "                        <td id=\"T_1c224b9a_ef73_11ea_9a10_0242ac130202row0_col4\" class=\"data row0 col4\" >1</td>\n",
       "                        <td id=\"T_1c224b9a_ef73_11ea_9a10_0242ac130202row0_col5\" class=\"data row0 col5\" >0</td>\n",
       "                        <td id=\"T_1c224b9a_ef73_11ea_9a10_0242ac130202row0_col6\" class=\"data row0 col6\" >1</td>\n",
       "                        <td id=\"T_1c224b9a_ef73_11ea_9a10_0242ac130202row0_col7\" class=\"data row0 col7\" >0</td>\n",
       "                        <td id=\"T_1c224b9a_ef73_11ea_9a10_0242ac130202row0_col8\" class=\"data row0 col8\" >0</td>\n",
       "                        <td id=\"T_1c224b9a_ef73_11ea_9a10_0242ac130202row0_col9\" class=\"data row0 col9\" >182</td>\n",
       "                        <td id=\"T_1c224b9a_ef73_11ea_9a10_0242ac130202row0_col10\" class=\"data row0 col10\" >2</td>\n",
       "                        <td id=\"T_1c224b9a_ef73_11ea_9a10_0242ac130202row0_col11\" class=\"data row0 col11\" >1</td>\n",
       "                        <td id=\"T_1c224b9a_ef73_11ea_9a10_0242ac130202row0_col12\" class=\"data row0 col12\" >0</td>\n",
       "                        <td id=\"T_1c224b9a_ef73_11ea_9a10_0242ac130202row0_col13\" class=\"data row0 col13\" >125</td>\n",
       "                        <td id=\"T_1c224b9a_ef73_11ea_9a10_0242ac130202row0_col14\" class=\"data row0 col14\" >1</td>\n",
       "                        <td id=\"T_1c224b9a_ef73_11ea_9a10_0242ac130202row0_col15\" class=\"data row0 col15\" >0</td>\n",
       "                        <td id=\"T_1c224b9a_ef73_11ea_9a10_0242ac130202row0_col16\" class=\"data row0 col16\" >0</td>\n",
       "            </tr>\n",
       "            <tr>\n",
       "                        <th id=\"T_1c224b9a_ef73_11ea_9a10_0242ac130202level0_row1\" class=\"row_heading level0 row1\" >male</th>\n",
       "                        <td id=\"T_1c224b9a_ef73_11ea_9a10_0242ac130202row1_col0\" class=\"data row1 col0\" >1</td>\n",
       "                        <td id=\"T_1c224b9a_ef73_11ea_9a10_0242ac130202row1_col1\" class=\"data row1 col1\" >2</td>\n",
       "                        <td id=\"T_1c224b9a_ef73_11ea_9a10_0242ac130202row1_col2\" class=\"data row1 col2\" >0</td>\n",
       "                        <td id=\"T_1c224b9a_ef73_11ea_9a10_0242ac130202row1_col3\" class=\"data row1 col3\" >1</td>\n",
       "                        <td id=\"T_1c224b9a_ef73_11ea_9a10_0242ac130202row1_col4\" class=\"data row1 col4\" >6</td>\n",
       "                        <td id=\"T_1c224b9a_ef73_11ea_9a10_0242ac130202row1_col5\" class=\"data row1 col5\" >1</td>\n",
       "                        <td id=\"T_1c224b9a_ef73_11ea_9a10_0242ac130202row1_col6\" class=\"data row1 col6\" >0</td>\n",
       "                        <td id=\"T_1c224b9a_ef73_11ea_9a10_0242ac130202row1_col7\" class=\"data row1 col7\" >2</td>\n",
       "                        <td id=\"T_1c224b9a_ef73_11ea_9a10_0242ac130202row1_col8\" class=\"data row1 col8\" >40</td>\n",
       "                        <td id=\"T_1c224b9a_ef73_11ea_9a10_0242ac130202row1_col9\" class=\"data row1 col9\" >0</td>\n",
       "                        <td id=\"T_1c224b9a_ef73_11ea_9a10_0242ac130202row1_col10\" class=\"data row1 col10\" >0</td>\n",
       "                        <td id=\"T_1c224b9a_ef73_11ea_9a10_0242ac130202row1_col11\" class=\"data row1 col11\" >0</td>\n",
       "                        <td id=\"T_1c224b9a_ef73_11ea_9a10_0242ac130202row1_col12\" class=\"data row1 col12\" >517</td>\n",
       "                        <td id=\"T_1c224b9a_ef73_11ea_9a10_0242ac130202row1_col13\" class=\"data row1 col13\" >0</td>\n",
       "                        <td id=\"T_1c224b9a_ef73_11ea_9a10_0242ac130202row1_col14\" class=\"data row1 col14\" >0</td>\n",
       "                        <td id=\"T_1c224b9a_ef73_11ea_9a10_0242ac130202row1_col15\" class=\"data row1 col15\" >6</td>\n",
       "                        <td id=\"T_1c224b9a_ef73_11ea_9a10_0242ac130202row1_col16\" class=\"data row1 col16\" >1</td>\n",
       "            </tr>\n",
       "    </tbody></table>"
      ],
      "text/plain": [
       "<pandas.io.formats.style.Styler at 0x7f211b559950>"
      ]
     },
     "execution_count": 3,
     "metadata": {},
     "output_type": "execute_result"
    }
   ],
   "source": [
    "# Checking the Initials with the Sex\n",
    "pd.crosstab(df_train['Initial'], df_train['Sex']).T.style.background_gradient(cmap='summer_r')"
   ]
  },
  {
   "cell_type": "markdown",
   "execution_count": null,
   "metadata": {
    "papermill": {
     "duration": 0.025263,
     "end_time": "2020-09-05T12:27:06.123317",
     "exception": false,
     "start_time": "2020-09-05T12:27:06.098054",
     "status": "completed"
    },
    "tags": []
   },
   "source": [
    "- 위 table을 참고하여, 남자, 여자가 쓰는 initial을 구분해 보겠습니다. replace 메소드를 사용하면, 특정 데이터 값을 원하는 값으로 치환해줍니다."
   ]
  },
  {
   "cell_type": "code",
   "execution_count": 4,
   "metadata": {
    "execution": {
     "iopub.execute_input": "2020-09-05T12:27:06.182574Z",
     "iopub.status.busy": "2020-09-05T12:27:06.181694Z",
     "iopub.status.idle": "2020-09-05T12:27:06.189754Z",
     "shell.execute_reply": "2020-09-05T12:27:06.190330Z"
    },
    "papermill": {
     "duration": 0.044314,
     "end_time": "2020-09-05T12:27:06.190505",
     "exception": false,
     "start_time": "2020-09-05T12:27:06.146191",
     "status": "completed"
    },
    "tags": []
   },
   "outputs": [],
   "source": [
    "df_train['Initial'].replace(['Mlle','Mme','Ms','Dr','Major','Lady','Countess','Jonkheer','Col','Rev','Capt','Sir','Don', 'Dona'],\n",
    "                        ['Miss','Miss','Miss','Mr','Mr','Mrs','Mrs','Other','Other','Other','Mr','Mr','Mr', 'Mr'],inplace=True)\n",
    "\n",
    "df_test['Initial'].replace(['Mlle','Mme','Ms','Dr','Major','Lady','Countess','Jonkheer','Col','Rev','Capt','Sir','Don', 'Dona'],\n",
    "                        ['Miss','Miss','Miss','Mr','Mr','Mrs','Mrs','Other','Other','Other','Mr','Mr','Mr', 'Mr'],inplace=True)\n"
   ]
  },
  {
   "cell_type": "code",
   "execution_count": 5,
   "metadata": {
    "execution": {
     "iopub.execute_input": "2020-09-05T12:27:06.238030Z",
     "iopub.status.busy": "2020-09-05T12:27:06.236604Z",
     "iopub.status.idle": "2020-09-05T12:27:06.265310Z",
     "shell.execute_reply": "2020-09-05T12:27:06.264420Z"
    },
    "papermill": {
     "duration": 0.055211,
     "end_time": "2020-09-05T12:27:06.265472",
     "exception": false,
     "start_time": "2020-09-05T12:27:06.210261",
     "status": "completed"
    },
    "tags": []
   },
   "outputs": [
    {
     "data": {
      "text/html": [
       "<div>\n",
       "<style scoped>\n",
       "    .dataframe tbody tr th:only-of-type {\n",
       "        vertical-align: middle;\n",
       "    }\n",
       "\n",
       "    .dataframe tbody tr th {\n",
       "        vertical-align: top;\n",
       "    }\n",
       "\n",
       "    .dataframe thead th {\n",
       "        text-align: right;\n",
       "    }\n",
       "</style>\n",
       "<table border=\"1\" class=\"dataframe\">\n",
       "  <thead>\n",
       "    <tr style=\"text-align: right;\">\n",
       "      <th></th>\n",
       "      <th>PassengerId</th>\n",
       "      <th>Survived</th>\n",
       "      <th>Pclass</th>\n",
       "      <th>Age</th>\n",
       "      <th>SibSp</th>\n",
       "      <th>Parch</th>\n",
       "      <th>Fare</th>\n",
       "      <th>FamilySize</th>\n",
       "    </tr>\n",
       "    <tr>\n",
       "      <th>Initial</th>\n",
       "      <th></th>\n",
       "      <th></th>\n",
       "      <th></th>\n",
       "      <th></th>\n",
       "      <th></th>\n",
       "      <th></th>\n",
       "      <th></th>\n",
       "      <th></th>\n",
       "    </tr>\n",
       "  </thead>\n",
       "  <tbody>\n",
       "    <tr>\n",
       "      <th>Master</th>\n",
       "      <td>414.975000</td>\n",
       "      <td>0.575000</td>\n",
       "      <td>2.625000</td>\n",
       "      <td>4.574167</td>\n",
       "      <td>2.300000</td>\n",
       "      <td>1.375000</td>\n",
       "      <td>3.340710</td>\n",
       "      <td>4.675000</td>\n",
       "    </tr>\n",
       "    <tr>\n",
       "      <th>Miss</th>\n",
       "      <td>411.741935</td>\n",
       "      <td>0.704301</td>\n",
       "      <td>2.284946</td>\n",
       "      <td>21.860000</td>\n",
       "      <td>0.698925</td>\n",
       "      <td>0.537634</td>\n",
       "      <td>3.123713</td>\n",
       "      <td>2.236559</td>\n",
       "    </tr>\n",
       "    <tr>\n",
       "      <th>Mr</th>\n",
       "      <td>455.880907</td>\n",
       "      <td>0.162571</td>\n",
       "      <td>2.381853</td>\n",
       "      <td>32.739609</td>\n",
       "      <td>0.293006</td>\n",
       "      <td>0.151229</td>\n",
       "      <td>2.651507</td>\n",
       "      <td>1.444234</td>\n",
       "    </tr>\n",
       "    <tr>\n",
       "      <th>Mrs</th>\n",
       "      <td>456.393701</td>\n",
       "      <td>0.795276</td>\n",
       "      <td>1.984252</td>\n",
       "      <td>35.981818</td>\n",
       "      <td>0.692913</td>\n",
       "      <td>0.818898</td>\n",
       "      <td>3.443751</td>\n",
       "      <td>2.511811</td>\n",
       "    </tr>\n",
       "    <tr>\n",
       "      <th>Other</th>\n",
       "      <td>564.444444</td>\n",
       "      <td>0.111111</td>\n",
       "      <td>1.666667</td>\n",
       "      <td>45.888889</td>\n",
       "      <td>0.111111</td>\n",
       "      <td>0.111111</td>\n",
       "      <td>2.641605</td>\n",
       "      <td>1.222222</td>\n",
       "    </tr>\n",
       "  </tbody>\n",
       "</table>\n",
       "</div>"
      ],
      "text/plain": [
       "         PassengerId  Survived    Pclass        Age     SibSp     Parch  \\\n",
       "Initial                                                                   \n",
       "Master    414.975000  0.575000  2.625000   4.574167  2.300000  1.375000   \n",
       "Miss      411.741935  0.704301  2.284946  21.860000  0.698925  0.537634   \n",
       "Mr        455.880907  0.162571  2.381853  32.739609  0.293006  0.151229   \n",
       "Mrs       456.393701  0.795276  1.984252  35.981818  0.692913  0.818898   \n",
       "Other     564.444444  0.111111  1.666667  45.888889  0.111111  0.111111   \n",
       "\n",
       "             Fare  FamilySize  \n",
       "Initial                        \n",
       "Master   3.340710    4.675000  \n",
       "Miss     3.123713    2.236559  \n",
       "Mr       2.651507    1.444234  \n",
       "Mrs      3.443751    2.511811  \n",
       "Other    2.641605    1.222222  "
      ]
     },
     "execution_count": 5,
     "metadata": {},
     "output_type": "execute_result"
    }
   ],
   "source": [
    "df_train.groupby('Initial').mean()"
   ]
  },
  {
   "cell_type": "markdown",
   "execution_count": null,
   "metadata": {
    "papermill": {
     "duration": 0.019847,
     "end_time": "2020-09-05T12:27:06.306411",
     "exception": false,
     "start_time": "2020-09-05T12:27:06.286564",
     "status": "completed"
    },
    "tags": []
   },
   "source": [
    "- 여성과 관계있는 Miss, Mrs가 생존률이 높은 것을 볼 수 있습니다."
   ]
  },
  {
   "cell_type": "code",
   "execution_count": 6,
   "metadata": {
    "execution": {
     "iopub.execute_input": "2020-09-05T12:27:06.356973Z",
     "iopub.status.busy": "2020-09-05T12:27:06.356125Z",
     "iopub.status.idle": "2020-09-05T12:27:06.628972Z",
     "shell.execute_reply": "2020-09-05T12:27:06.627847Z"
    },
    "papermill": {
     "duration": 0.301849,
     "end_time": "2020-09-05T12:27:06.629179",
     "exception": false,
     "start_time": "2020-09-05T12:27:06.327330",
     "status": "completed"
    },
    "tags": []
   },
   "outputs": [
    {
     "data": {
      "text/plain": [
       "<matplotlib.axes._subplots.AxesSubplot at 0x7f2107e96f90>"
      ]
     },
     "execution_count": 6,
     "metadata": {},
     "output_type": "execute_result"
    },
    {
     "data": {
      "image/png": "[encoded data removed]",
      "text/plain": [
       "<Figure size 432x288 with 1 Axes>"
      ]
     },
     "metadata": {
      "needs_background": "light"
     },
     "output_type": "display_data"
    }
   ],
   "source": [
    "df_train.groupby('Initial')['Survived'].mean().plot.bar()"
   ]
  },
  {
   "cell_type": "markdown",
   "execution_count": null,
   "metadata": {
    "papermill": {
     "duration": 0.02105,
     "end_time": "2020-09-05T12:27:06.676405",
     "exception": false,
     "start_time": "2020-09-05T12:27:06.655355",
     "status": "completed"
    },
    "tags": []
   },
   "source": [
    "- 이제 본격적으로 Null 을 채울 것입니다. null data를 채우는 방법은 정말 많이 존재합니다. statistics를 활용하는 방법도 있고, null data가 없는 데이터를 기반으로 새로운 머신러닝 알고리즘을 만들어 예측해서 채워넣는 방식도 있습니다. 여기서는 statistics를 활용하는 방법을 사용할 것입니다.\n",
    "\n",
    "- 여기서 statistics는 train data의 것을 의미합니다. 우리는 언제나 test를 unseen으로 둔 상태로 나둬야 하며, train에서 얻은 statiscs를 기반으로 test의 null data를 채워줘야 합니다."
   ]
  },
  {
   "cell_type": "code",
   "execution_count": 7,
   "metadata": {
    "execution": {
     "iopub.execute_input": "2020-09-05T12:27:06.733458Z",
     "iopub.status.busy": "2020-09-05T12:27:06.727673Z",
     "iopub.status.idle": "2020-09-05T12:27:06.746276Z",
     "shell.execute_reply": "2020-09-05T12:27:06.745448Z"
    },
    "papermill": {
     "duration": 0.04905,
     "end_time": "2020-09-05T12:27:06.746433",
     "exception": false,
     "start_time": "2020-09-05T12:27:06.697383",
     "status": "completed"
    },
    "tags": []
   },
   "outputs": [
    {
     "data": {
      "text/html": [
       "<div>\n",
       "<style scoped>\n",
       "    .dataframe tbody tr th:only-of-type {\n",
       "        vertical-align: middle;\n",
       "    }\n",
       "\n",
       "    .dataframe tbody tr th {\n",
       "        vertical-align: top;\n",
       "    }\n",
       "\n",
       "    .dataframe thead th {\n",
       "        text-align: right;\n",
       "    }\n",
       "</style>\n",
       "<table border=\"1\" class=\"dataframe\">\n",
       "  <thead>\n",
       "    <tr style=\"text-align: right;\">\n",
       "      <th></th>\n",
       "      <th>PassengerId</th>\n",
       "      <th>Survived</th>\n",
       "      <th>Pclass</th>\n",
       "      <th>Age</th>\n",
       "      <th>SibSp</th>\n",
       "      <th>Parch</th>\n",
       "      <th>Fare</th>\n",
       "      <th>FamilySize</th>\n",
       "    </tr>\n",
       "    <tr>\n",
       "      <th>Initial</th>\n",
       "      <th></th>\n",
       "      <th></th>\n",
       "      <th></th>\n",
       "      <th></th>\n",
       "      <th></th>\n",
       "      <th></th>\n",
       "      <th></th>\n",
       "      <th></th>\n",
       "    </tr>\n",
       "  </thead>\n",
       "  <tbody>\n",
       "    <tr>\n",
       "      <th>Master</th>\n",
       "      <td>414.975000</td>\n",
       "      <td>0.575000</td>\n",
       "      <td>2.625000</td>\n",
       "      <td>4.574167</td>\n",
       "      <td>2.300000</td>\n",
       "      <td>1.375000</td>\n",
       "      <td>3.340710</td>\n",
       "      <td>4.675000</td>\n",
       "    </tr>\n",
       "    <tr>\n",
       "      <th>Miss</th>\n",
       "      <td>411.741935</td>\n",
       "      <td>0.704301</td>\n",
       "      <td>2.284946</td>\n",
       "      <td>21.860000</td>\n",
       "      <td>0.698925</td>\n",
       "      <td>0.537634</td>\n",
       "      <td>3.123713</td>\n",
       "      <td>2.236559</td>\n",
       "    </tr>\n",
       "    <tr>\n",
       "      <th>Mr</th>\n",
       "      <td>455.880907</td>\n",
       "      <td>0.162571</td>\n",
       "      <td>2.381853</td>\n",
       "      <td>32.739609</td>\n",
       "      <td>0.293006</td>\n",
       "      <td>0.151229</td>\n",
       "      <td>2.651507</td>\n",
       "      <td>1.444234</td>\n",
       "    </tr>\n",
       "    <tr>\n",
       "      <th>Mrs</th>\n",
       "      <td>456.393701</td>\n",
       "      <td>0.795276</td>\n",
       "      <td>1.984252</td>\n",
       "      <td>35.981818</td>\n",
       "      <td>0.692913</td>\n",
       "      <td>0.818898</td>\n",
       "      <td>3.443751</td>\n",
       "      <td>2.511811</td>\n",
       "    </tr>\n",
       "    <tr>\n",
       "      <th>Other</th>\n",
       "      <td>564.444444</td>\n",
       "      <td>0.111111</td>\n",
       "      <td>1.666667</td>\n",
       "      <td>45.888889</td>\n",
       "      <td>0.111111</td>\n",
       "      <td>0.111111</td>\n",
       "      <td>2.641605</td>\n",
       "      <td>1.222222</td>\n",
       "    </tr>\n",
       "  </tbody>\n",
       "</table>\n",
       "</div>"
      ],
      "text/plain": [
       "         PassengerId  Survived    Pclass        Age     SibSp     Parch  \\\n",
       "Initial                                                                   \n",
       "Master    414.975000  0.575000  2.625000   4.574167  2.300000  1.375000   \n",
       "Miss      411.741935  0.704301  2.284946  21.860000  0.698925  0.537634   \n",
       "Mr        455.880907  0.162571  2.381853  32.739609  0.293006  0.151229   \n",
       "Mrs       456.393701  0.795276  1.984252  35.981818  0.692913  0.818898   \n",
       "Other     564.444444  0.111111  1.666667  45.888889  0.111111  0.111111   \n",
       "\n",
       "             Fare  FamilySize  \n",
       "Initial                        \n",
       "Master   3.340710    4.675000  \n",
       "Miss     3.123713    2.236559  \n",
       "Mr       2.651507    1.444234  \n",
       "Mrs      3.443751    2.511811  \n",
       "Other    2.641605    1.222222  "
      ]
     },
     "execution_count": 7,
     "metadata": {},
     "output_type": "execute_result"
    }
   ],
   "source": [
    "df_train.groupby('Initial').mean()"
   ]
  },
  {
   "cell_type": "markdown",
   "execution_count": null,
   "metadata": {
    "papermill": {
     "duration": 0.020546,
     "end_time": "2020-09-05T12:27:06.788689",
     "exception": false,
     "start_time": "2020-09-05T12:27:06.768143",
     "status": "completed"
    },
    "tags": []
   },
   "source": [
    "- Age의 평균을 이용해 Null value를 채우도록 하겠습니다.\n",
    "\n",
    "- pandas dataframe을 다룰 때에는 boolean array를 이용해 indexing 하는 방법이 참으로 편리합니다.\n",
    "\n",
    "- 아래 코드 첫줄을 해석하자면, isnull() 이면서 Initial이 Mr인 조건을 만족하는 row(탑승객)의 'Age'의 값을 33으로 치환한다 입니다.\n",
    "\n",
    "- loc + boolean + column 을 사용해 값을 치환하는 방법은 자주 쓰이므로 꼭 익숙해집시다."
   ]
  },
  {
   "cell_type": "code",
   "execution_count": 8,
   "metadata": {
    "execution": {
     "iopub.execute_input": "2020-09-05T12:27:06.860965Z",
     "iopub.status.busy": "2020-09-05T12:27:06.841899Z",
     "iopub.status.idle": "2020-09-05T12:27:06.881914Z",
     "shell.execute_reply": "2020-09-05T12:27:06.880916Z"
    },
    "papermill": {
     "duration": 0.07105,
     "end_time": "2020-09-05T12:27:06.882085",
     "exception": false,
     "start_time": "2020-09-05T12:27:06.811035",
     "status": "completed"
    },
    "tags": []
   },
   "outputs": [],
   "source": [
    "isnull = df_train.Age.isnull()\n",
    "\n",
    "df_train.loc[(isnull)&(df_train.Initial=='Master'), 'Age'] = 5\n",
    "df_train.loc[(isnull)&(df_train.Initial=='Miss'), 'Age'] = 22\n",
    "df_train.loc[(isnull)&(df_train.Initial=='Mr'), 'Age'] = 33\n",
    "df_train.loc[(isnull)&(df_train.Initial=='Mrs'), 'Age'] = 36\n",
    "df_train.loc[(isnull)&(df_train.Initial=='Other'), 'Age'] = 46\n",
    "\n",
    "df_test.loc[(isnull)&(df_test.Initial=='Master'), 'Age'] = 5\n",
    "df_test.loc[(isnull)&(df_test.Initial=='Miss'), 'Age'] = 22\n",
    "df_test.loc[(isnull)&(df_test.Initial=='Mr'), 'Age'] = 33\n",
    "df_test.loc[(isnull)&(df_test.Initial=='Mrs'), 'Age'] = 36\n",
    "df_test.loc[(isnull)&(df_test.Initial=='Other'), 'Age'] = 46"
   ]
  },
  {
   "cell_type": "markdown",
   "execution_count": null,
   "metadata": {
    "papermill": {
     "duration": 0.020286,
     "end_time": "2020-09-05T12:27:06.923952",
     "exception": false,
     "start_time": "2020-09-05T12:27:06.903666",
     "status": "completed"
    },
    "tags": []
   },
   "source": [
    "- 여기선 간단하게 Null을 채웠지만, 좀 더 다양한 방법을 쓴 예시들이 다른 커널에 존재합니다.\n",
    "\n",
    "- https://www.kaggle.com/yassineghouzam/titanic-top-4-with-ensemble-modeling 보시면서 공부해보세요!\n",
    "\n",
    "- 이 외에도 다른 캐글러들의 커널을 보며 여러 참심한 아이디어를 살펴보세요!"
   ]
  },
  {
   "cell_type": "markdown",
   "execution_count": null,
   "metadata": {
    "papermill": {
     "duration": 0.020704,
     "end_time": "2020-09-05T12:27:06.965412",
     "exception": false,
     "start_time": "2020-09-05T12:27:06.944708",
     "status": "completed"
    },
    "tags": []
   },
   "source": [
    "### 3.1.2 Fill Null in Embarked"
   ]
  },
  {
   "cell_type": "code",
   "execution_count": 9,
   "metadata": {
    "execution": {
     "iopub.execute_input": "2020-09-05T12:27:07.020895Z",
     "iopub.status.busy": "2020-09-05T12:27:07.019910Z",
     "iopub.status.idle": "2020-09-05T12:27:07.027796Z",
     "shell.execute_reply": "2020-09-05T12:27:07.026792Z"
    },
    "papermill": {
     "duration": 0.040078,
     "end_time": "2020-09-05T12:27:07.027954",
     "exception": false,
     "start_time": "2020-09-05T12:27:06.987876",
     "status": "completed"
    },
    "tags": []
   },
   "outputs": [
    {
     "name": "stdout",
     "output_type": "stream",
     "text": [
      "Embarked has 2 Null values\n"
     ]
    }
   ],
   "source": [
    "print('Embarked has', sum(df_train['Embarked'].isnull()), 'Null values')"
   ]
  },
  {
   "cell_type": "markdown",
   "execution_count": null,
   "metadata": {
    "papermill": {
     "duration": 0.021413,
     "end_time": "2020-09-05T12:27:07.072467",
     "exception": false,
     "start_time": "2020-09-05T12:27:07.051054",
     "status": "completed"
    },
    "tags": []
   },
   "source": [
    "- Embarked는 Null value가 2개이고, S에서 가장 많은 탑승객이 있었으므로, 간단하게 Null을 S로 채우겠습니다.\n",
    "\n",
    "- dataframe의 fillna method를 이용하면 쉽게 채울 수 있습니다. 여기서 inplace=True로 하면 df_train에 fillna를 실제로 적용하게 됩니다."
   ]
  },
  {
   "cell_type": "code",
   "execution_count": 10,
   "metadata": {
    "execution": {
     "iopub.execute_input": "2020-09-05T12:27:07.125313Z",
     "iopub.status.busy": "2020-09-05T12:27:07.124278Z",
     "iopub.status.idle": "2020-09-05T12:27:07.128692Z",
     "shell.execute_reply": "2020-09-05T12:27:07.127961Z"
    },
    "papermill": {
     "duration": 0.034287,
     "end_time": "2020-09-05T12:27:07.128843",
     "exception": false,
     "start_time": "2020-09-05T12:27:07.094556",
     "status": "completed"
    },
    "tags": []
   },
   "outputs": [],
   "source": [
    "df_train['Embarked'].fillna('S', inplace=True)"
   ]
  },
  {
   "cell_type": "markdown",
   "execution_count": null,
   "metadata": {
    "papermill": {
     "duration": 0.022435,
     "end_time": "2020-09-05T12:27:07.172984",
     "exception": false,
     "start_time": "2020-09-05T12:27:07.150549",
     "status": "completed"
    },
    "tags": []
   },
   "source": [
    "## 3.2 Change Age(continuous to categorical)\n",
    "\n",
    "- Age는 현재 continuous feature 입니다. 이대로 써도 모델을 세울 수 있지만, Age를 몇개의 group으로 나누어 category화 시켜줄 수도 있습니다. continuous를 categorical로 바꾸면 자칫 information loss가 생길 수도 있습니다만, 본 튜토리얼에서는 다양한 방법을 소개하는 것이 목적이므로 진행하도록 하겠습니다."
   ]
  },
  {
   "cell_type": "markdown",
   "execution_count": null,
   "metadata": {
    "papermill": {
     "duration": 0.021584,
     "end_time": "2020-09-05T12:27:07.217074",
     "exception": false,
     "start_time": "2020-09-05T12:27:07.195490",
     "status": "completed"
    },
    "tags": []
   },
   "source": [
    "- 방법은 여러가지가 있습니다. dataFrame의 indexing 방법인 loc를 사용하여 직접해줄 수 있고, 아니면 apply를 사용해 함수를 넣어줄 수 있습니다.\n",
    "\n",
    "- 첫번째로 loc를 사용한 방법입니다. loc는 자주 쓰게 되므로 그 사용법을 숙지하면 좋습니다.\n",
    "\n",
    "- 나이는 10살 간격으로 나누겠습니다."
   ]
  },
  {
   "cell_type": "code",
   "execution_count": 11,
   "metadata": {
    "execution": {
     "iopub.execute_input": "2020-09-05T12:27:07.309453Z",
     "iopub.status.busy": "2020-09-05T12:27:07.283649Z",
     "iopub.status.idle": "2020-09-05T12:27:07.314007Z",
     "shell.execute_reply": "2020-09-05T12:27:07.313255Z"
    },
    "papermill": {
     "duration": 0.075927,
     "end_time": "2020-09-05T12:27:07.314168",
     "exception": false,
     "start_time": "2020-09-05T12:27:07.238241",
     "status": "completed"
    },
    "tags": []
   },
   "outputs": [],
   "source": [
    "df_train['Age_cat'] = 0\n",
    "df_train.loc[df_train['Age'] < 10, 'Age_cat'] = 0\n",
    "df_train.loc[(10 <= df_train['Age']) & (df_train['Age'] < 20), 'Age_cat'] = 1\n",
    "df_train.loc[(20 <= df_train['Age']) & (df_train['Age'] < 30), 'Age_cat'] = 2\n",
    "df_train.loc[(30 <= df_train['Age']) & (df_train['Age'] < 40), 'Age_cat'] = 3\n",
    "df_train.loc[(40 <= df_train['Age']) & (df_train['Age'] < 50), 'Age_cat'] = 4\n",
    "df_train.loc[(50 <= df_train['Age']) & (df_train['Age'] < 60), 'Age_cat'] = 5\n",
    "df_train.loc[(60 <= df_train['Age']) & (df_train['Age'] < 70), 'Age_cat'] = 6\n",
    "df_train.loc[(70 <= df_train['Age']), 'Age_cat'] = 7\n",
    "\n",
    "df_test['Age_cat'] = 0\n",
    "df_test.loc[df_train['Age'] < 10, 'Age_cat'] = 0\n",
    "df_test.loc[(10 <= df_test['Age']) & (df_test['Age'] < 20), 'Age_cat'] = 1\n",
    "df_test.loc[(20 <= df_test['Age']) & (df_test['Age'] < 30), 'Age_cat'] = 2\n",
    "df_test.loc[(30 <= df_test['Age']) & (df_test['Age'] < 40), 'Age_cat'] = 3\n",
    "df_test.loc[(40 <= df_test['Age']) & (df_test['Age'] < 50), 'Age_cat'] = 4\n",
    "df_test.loc[(50 <= df_test['Age']) & (df_test['Age'] < 60), 'Age_cat'] = 5\n",
    "df_test.loc[(60 <= df_test['Age']) & (df_test['Age'] < 70), 'Age_cat'] = 6\n",
    "df_test.loc[(70 <= df_test['Age']), 'Age_cat'] = 7"
   ]
  },
  {
   "cell_type": "markdown",
   "execution_count": null,
   "metadata": {
    "papermill": {
     "duration": 0.023117,
     "end_time": "2020-09-05T12:27:07.360008",
     "exception": false,
     "start_time": "2020-09-05T12:27:07.336891",
     "status": "completed"
    },
    "tags": []
   },
   "source": [
    "- 두번째로 간단한 함수를 만들어 apply 메서드에 넣어주는 방법입니다.\n",
    "\n",
    "- 훨씬 수월합니다."
   ]
  },
  {
   "cell_type": "code",
   "execution_count": 12,
   "metadata": {
    "execution": {
     "iopub.execute_input": "2020-09-05T12:27:07.422516Z",
     "iopub.status.busy": "2020-09-05T12:27:07.420987Z",
     "iopub.status.idle": "2020-09-05T12:27:07.425573Z",
     "shell.execute_reply": "2020-09-05T12:27:07.424794Z"
    },
    "papermill": {
     "duration": 0.041864,
     "end_time": "2020-09-05T12:27:07.425936",
     "exception": false,
     "start_time": "2020-09-05T12:27:07.384072",
     "status": "completed"
    },
    "tags": []
   },
   "outputs": [],
   "source": [
    "def category_age(x):\n",
    "    if x < 10:\n",
    "        return 0\n",
    "    elif x < 20:\n",
    "        return 1\n",
    "    elif x < 30:\n",
    "        return 2\n",
    "    elif x < 40:\n",
    "        return 3\n",
    "    elif x < 50:\n",
    "        return 4\n",
    "    elif x < 60:\n",
    "        return 5\n",
    "    elif x <70:\n",
    "        return 6\n",
    "    else:\n",
    "        return 7\n",
    "\n",
    "df_train['Age_cat_2'] = df_train['Age'].apply(category_age)"
   ]
  },
  {
   "cell_type": "markdown",
   "execution_count": null,
   "metadata": {
    "papermill": {
     "duration": 0.02271,
     "end_time": "2020-09-05T12:27:07.471007",
     "exception": false,
     "start_time": "2020-09-05T12:27:07.448297",
     "status": "completed"
    },
    "tags": []
   },
   "source": [
    "- 두가지 방법이 잘 적용되었다면, 둘다 같은 결과를 내야합니다.\n",
    "\n",
    "- 이를 확인하기 위해 Series 간 boolean 비교 후 all() 메서드를 사용합시다. all() 메서드는 모든 값이 True면 True, 하나라도 False가 있으면 False를 줍니다."
   ]
  },
  {
   "cell_type": "code",
   "execution_count": 13,
   "metadata": {
    "execution": {
     "iopub.execute_input": "2020-09-05T12:27:07.522152Z",
     "iopub.status.busy": "2020-09-05T12:27:07.521105Z",
     "iopub.status.idle": "2020-09-05T12:27:07.524758Z",
     "shell.execute_reply": "2020-09-05T12:27:07.525363Z"
    },
    "papermill": {
     "duration": 0.032712,
     "end_time": "2020-09-05T12:27:07.525528",
     "exception": false,
     "start_time": "2020-09-05T12:27:07.492816",
     "status": "completed"
    },
    "tags": []
   },
   "outputs": [
    {
     "name": "stdout",
     "output_type": "stream",
     "text": [
      "1번 방법, 2번 방법 둘다 같은 결과를 내면 True 줘야함 ->  True\n"
     ]
    }
   ],
   "source": [
    "print('1번 방법, 2번 방법 둘다 같은 결과를 내면 True 줘야함 -> ', (df_train['Age_cat']==df_train['Age_cat_2']).all())"
   ]
  },
  {
   "cell_type": "markdown",
   "execution_count": null,
   "metadata": {
    "papermill": {
     "duration": 0.021157,
     "end_time": "2020-09-05T12:27:07.568101",
     "exception": false,
     "start_time": "2020-09-05T12:27:07.546944",
     "status": "completed"
    },
    "tags": []
   },
   "source": [
    "- 보시다시피 True 입니다. 둘 중 편한 걸 선택하시면 됩니다.\n",
    "\n",
    "- 이제 중복되는 Age_cat 컬럼과 원래 컬럼 Age를 제거하겠습니다."
   ]
  },
  {
   "cell_type": "code",
   "execution_count": 14,
   "metadata": {
    "execution": {
     "iopub.execute_input": "2020-09-05T12:27:07.622364Z",
     "iopub.status.busy": "2020-09-05T12:27:07.621301Z",
     "iopub.status.idle": "2020-09-05T12:27:07.624919Z",
     "shell.execute_reply": "2020-09-05T12:27:07.624070Z"
    },
    "papermill": {
     "duration": 0.035463,
     "end_time": "2020-09-05T12:27:07.625060",
     "exception": false,
     "start_time": "2020-09-05T12:27:07.589597",
     "status": "completed"
    },
    "tags": []
   },
   "outputs": [],
   "source": [
    "df_train.drop(['Age', 'Age_cat_2'], axis=1, inplace=True)\n",
    "df_test.drop(['Age'], axis=1, inplace=True)"
   ]
  },
  {
   "cell_type": "markdown",
   "execution_count": null,
   "metadata": {
    "papermill": {
     "duration": 0.02286,
     "end_time": "2020-09-05T12:27:07.670126",
     "exception": false,
     "start_time": "2020-09-05T12:27:07.647266",
     "status": "completed"
    },
    "tags": []
   },
   "source": [
    "## 3.3 Change Initial, Embarked and Sex (string to numerical)\n",
    "\n",
    "- 현재 Initial은 Mr, Mrs, Miss, Master, Other 총 5개로 이루어져 있습니다. 이런 카테고리로 표현되어져 있는 데이터를 모델에 인풋으로 넣어줄 때 우리가 해야할 것은 먼저 컴퓨터가 인식할 수 있도록 수치화 시켜줘야 합니다.\n",
    "\n",
    "- map method를 가지고 간단히 할 수 있습니다.\n",
    "\n",
    "- 사전 순서대로 정리하여 mapping 하겠습니다"
   ]
  },
  {
   "cell_type": "code",
   "execution_count": 15,
   "metadata": {
    "execution": {
     "iopub.execute_input": "2020-09-05T12:27:07.729208Z",
     "iopub.status.busy": "2020-09-05T12:27:07.727936Z",
     "iopub.status.idle": "2020-09-05T12:27:07.731553Z",
     "shell.execute_reply": "2020-09-05T12:27:07.732202Z"
    },
    "papermill": {
     "duration": 0.038494,
     "end_time": "2020-09-05T12:27:07.732390",
     "exception": false,
     "start_time": "2020-09-05T12:27:07.693896",
     "status": "completed"
    },
    "tags": []
   },
   "outputs": [],
   "source": [
    "df_train['Initial'] = df_train['Initial'].map({'Master': 0, 'Miss': 1, 'Mr': 2, 'Mrs':3, 'Other': 4})\n",
    "df_test['Initial'] = df_test['Initial'].map({'Master': 0, 'Miss': 1, 'Mr':2, 'Mrs':3, 'Other':4})"
   ]
  },
  {
   "cell_type": "markdown",
   "execution_count": null,
   "metadata": {
    "papermill": {
     "duration": 0.022425,
     "end_time": "2020-09-05T12:27:07.776366",
     "exception": false,
     "start_time": "2020-09-05T12:27:07.753941",
     "status": "completed"
    },
    "tags": []
   },
   "source": [
    "- Embarked 도 C, Q, S로 이루어져 있습니다. map을 이용해 바꿔봅시다.\n",
    "\n",
    "- 그러기 앞서서, 특정 column에 어떤 값들이 있는지 확인해보는 방법을 잠깐 살펴보겠습니다. 간단히 unique() 메서드를 쓰거나, value_counts()를 써서 count 까지 보는 방법이 있습니다."
   ]
  },
  {
   "cell_type": "code",
   "execution_count": 16,
   "metadata": {
    "execution": {
     "iopub.execute_input": "2020-09-05T12:27:07.829828Z",
     "iopub.status.busy": "2020-09-05T12:27:07.828585Z",
     "iopub.status.idle": "2020-09-05T12:27:07.834214Z",
     "shell.execute_reply": "2020-09-05T12:27:07.833337Z"
    },
    "papermill": {
     "duration": 0.035934,
     "end_time": "2020-09-05T12:27:07.834364",
     "exception": false,
     "start_time": "2020-09-05T12:27:07.798430",
     "status": "completed"
    },
    "tags": []
   },
   "outputs": [
    {
     "data": {
      "text/plain": [
       "array(['S', 'C', 'Q'], dtype=object)"
      ]
     },
     "execution_count": 16,
     "metadata": {},
     "output_type": "execute_result"
    }
   ],
   "source": [
    "df_train['Embarked'].unique()"
   ]
  },
  {
   "cell_type": "code",
   "execution_count": 17,
   "metadata": {
    "execution": {
     "iopub.execute_input": "2020-09-05T12:27:07.890808Z",
     "iopub.status.busy": "2020-09-05T12:27:07.889448Z",
     "iopub.status.idle": "2020-09-05T12:27:07.896164Z",
     "shell.execute_reply": "2020-09-05T12:27:07.895486Z"
    },
    "papermill": {
     "duration": 0.040068,
     "end_time": "2020-09-05T12:27:07.896300",
     "exception": false,
     "start_time": "2020-09-05T12:27:07.856232",
     "status": "completed"
    },
    "tags": []
   },
   "outputs": [
    {
     "data": {
      "text/plain": [
       "S    646\n",
       "C    168\n",
       "Q     77\n",
       "Name: Embarked, dtype: int64"
      ]
     },
     "execution_count": 17,
     "metadata": {},
     "output_type": "execute_result"
    }
   ],
   "source": [
    "df_train['Embarked'].value_counts()"
   ]
  },
  {
   "cell_type": "markdown",
   "execution_count": null,
   "metadata": {
    "papermill": {
     "duration": 0.02186,
     "end_time": "2020-09-05T12:27:07.941502",
     "exception": false,
     "start_time": "2020-09-05T12:27:07.919642",
     "status": "completed"
    },
    "tags": []
   },
   "source": [
    "- 위 두 방법을 사용해 Embarked가 S, C, Q 세가지로 이루어진 것을 볼 수 있습니다. 이제 map을 사용해봅시다."
   ]
  },
  {
   "cell_type": "code",
   "execution_count": 18,
   "metadata": {
    "execution": {
     "iopub.execute_input": "2020-09-05T12:27:07.996210Z",
     "iopub.status.busy": "2020-09-05T12:27:07.995298Z",
     "iopub.status.idle": "2020-09-05T12:27:08.003781Z",
     "shell.execute_reply": "2020-09-05T12:27:08.002646Z"
    },
    "papermill": {
     "duration": 0.039344,
     "end_time": "2020-09-05T12:27:08.003995",
     "exception": false,
     "start_time": "2020-09-05T12:27:07.964651",
     "status": "completed"
    },
    "tags": []
   },
   "outputs": [],
   "source": [
    "df_train['Embarked'] = df_train['Embarked'].map({'C': 0, 'Q': 1, 'S': 2})\n",
    "df_test['Embarked'] = df_test['Embarked'].map({'C': 0, 'Q': 1, 'S': 2})"
   ]
  },
  {
   "cell_type": "markdown",
   "execution_count": null,
   "metadata": {
    "papermill": {
     "duration": 0.079177,
     "end_time": "2020-09-05T12:27:08.106182",
     "exception": false,
     "start_time": "2020-09-05T12:27:08.027005",
     "status": "completed"
    },
    "tags": []
   },
   "source": [
    "- 한번 Null이 사라졌는지 확인해봅시다. Embarked column만 가져온 것은 하나의 pandas의 Series 객체이므로, isnull() 메소드를 사용해 Series의 값들이 null 인지 아닌지에 대한 boolean 값을 얻을 수 있습니다. 그리고 이것에 any()를 사용하여, True가 단 하나라도 있을 시(Null이 한개라도 있을 시) True를 반환해주게 됩니다. 우리는 Null을 S로 다 바꿔주었으므로 False를 얻게 됩니다."
   ]
  },
  {
   "cell_type": "code",
   "execution_count": 19,
   "metadata": {
    "execution": {
     "iopub.execute_input": "2020-09-05T12:27:08.165235Z",
     "iopub.status.busy": "2020-09-05T12:27:08.163983Z",
     "iopub.status.idle": "2020-09-05T12:27:08.169646Z",
     "shell.execute_reply": "2020-09-05T12:27:08.170380Z"
    },
    "papermill": {
     "duration": 0.038915,
     "end_time": "2020-09-05T12:27:08.170578",
     "exception": false,
     "start_time": "2020-09-05T12:27:08.131663",
     "status": "completed"
    },
    "tags": []
   },
   "outputs": [
    {
     "data": {
      "text/plain": [
       "False"
      ]
     },
     "execution_count": 19,
     "metadata": {},
     "output_type": "execute_result"
    }
   ],
   "source": [
    "df_train['Embarked'].isnull().any()"
   ]
  },
  {
   "cell_type": "markdown",
   "execution_count": null,
   "metadata": {
    "papermill": {
     "duration": 0.022201,
     "end_time": "2020-09-05T12:27:08.217855",
     "exception": false,
     "start_time": "2020-09-05T12:27:08.195654",
     "status": "completed"
    },
    "tags": []
   },
   "source": [
    "- Sex 도 Female, male로 이루어져 있습니다. map을 이용해 바꿔봅시다."
   ]
  },
  {
   "cell_type": "code",
   "execution_count": 20,
   "metadata": {
    "execution": {
     "iopub.execute_input": "2020-09-05T12:27:08.274883Z",
     "iopub.status.busy": "2020-09-05T12:27:08.273936Z",
     "iopub.status.idle": "2020-09-05T12:27:08.278003Z",
     "shell.execute_reply": "2020-09-05T12:27:08.277165Z"
    },
    "papermill": {
     "duration": 0.037891,
     "end_time": "2020-09-05T12:27:08.278155",
     "exception": false,
     "start_time": "2020-09-05T12:27:08.240264",
     "status": "completed"
    },
    "tags": []
   },
   "outputs": [],
   "source": [
    "df_train['Sex'] = df_train['Sex'].map({'female': 0, 'male': 1})\n",
    "df_test['Sex'] = df_test['Sex'].map({'female': 0, 'male': 1})"
   ]
  },
  {
   "cell_type": "markdown",
   "execution_count": null,
   "metadata": {
    "papermill": {
     "duration": 0.021695,
     "end_time": "2020-09-05T12:27:08.322171",
     "exception": false,
     "start_time": "2020-09-05T12:27:08.300476",
     "status": "completed"
    },
    "tags": []
   },
   "source": [
    "- 여지껏 고생하셨습니다. 이제 각 feature 간의 상관관계를 한번 보려고 합니다. 두 변수 값의 Pearson correlation(피어슨 상관관계)을 구하면 (-1, 1) 사이의 값을 얻을 수 있습니다. -1로 갈수록 음의 상관관계, 1로 갈수록 양의 상관관계를 의미하며, 0은 상관관계가 없다는 것을 의미합니다. 구하는 수식은 아래와 같습니다.\n",
    "\n",
    "\\begin{equation*}\n",
    "> r_{xy} = {Cov(x,y) \\over S_xS_y} = { {{1 \\over n-1}\\sum_{k=1}^n(x_i-\\bar{x})(y_i-\\bar{y})} \\over S_xS_y}\n",
    "\\end{equation*}\n",
    "\n",
    "- 우리는 여러 feature를 가지고 있으니 이를 하나의 matrix 형태로 보면 편할 텐데, 이를 heatmap plot 이라고 하며, dafaframe의 corr() 메서드와 seaborn을 가지고 편하게 그릴 수 있습니다."
   ]
  },
  {
   "cell_type": "code",
   "execution_count": 21,
   "metadata": {
    "execution": {
     "iopub.execute_input": "2020-09-05T12:27:08.394665Z",
     "iopub.status.busy": "2020-09-05T12:27:08.389378Z",
     "iopub.status.idle": "2020-09-05T12:27:09.145851Z",
     "shell.execute_reply": "2020-09-05T12:27:09.144983Z"
    },
    "papermill": {
     "duration": 0.800122,
     "end_time": "2020-09-05T12:27:09.146020",
     "exception": false,
     "start_time": "2020-09-05T12:27:08.345898",
     "status": "completed"
    },
    "tags": []
   },
   "outputs": [
    {
     "data": {
      "image/png": "[encoded data removed]",
      "text/plain": [
       "<Figure size 1008x864 with 2 Axes>"
      ]
     },
     "metadata": {
      "needs_background": "light"
     },
     "output_type": "display_data"
    }
   ],
   "source": [
    "heatmap_data = df_train[['Survived', 'Pclass', 'Sex', 'Fare', 'Embarked', 'FamilySize', 'Initial', 'Age_cat']]\n",
    "\n",
    "colormap = plt.cm.RdBu\n",
    "plt.figure(figsize=(14,12))\n",
    "plt.title('Pearson Correlation of Features', y=1.05, size=15)\n",
    "sns.heatmap(heatmap_data.astype(float).corr(), linewidths=0.1, vmax=1.0,\n",
    "           square=True, cmap=colormap, linecolor='white', annot=True, annot_kws={'size': 16})\n",
    "del heatmap_data"
   ]
  },
  {
   "cell_type": "markdown",
   "execution_count": null,
   "metadata": {
    "papermill": {
     "duration": 0.034071,
     "end_time": "2020-09-05T12:27:09.204293",
     "exception": false,
     "start_time": "2020-09-05T12:27:09.170222",
     "status": "completed"
    },
    "tags": []
   },
   "source": [
    "- 우리가 EDA에서 살펴봤듯이, Sex와 Pclass가 Survived에 상관관계가 어느 정도 있음을 볼 수 있습니다.\n",
    "\n",
    "- 생각보다 fare와 Embarked도 상관관계가 있음을 볼 수 있습니다.\n",
    "\n",
    "- 또한 우리가 여기서 얻을 수 있는 정보는 서로 강한 상관관계를 가지는 feature들이 없다는 것입니다.\n",
    "\n",
    "- 이것은 우리가 모델을 학습시킬 때, 불필요한(redundant, superfluous) feature가 없다는 것을 의미합니다. 1 또는 -1의 상관관계를 가진 feature A, B가 있다면, 우리가 얻을 수 있는 정보는 사실 하나일 거니까요.\n",
    "\n",
    "- 이제 실제로 모델을 학습시키기 앞서서 data preprocessing(전처리)를 진행해보겠습니다. 거의 다 와갑니다 힙냅시다!"
   ]
  },
  {
   "cell_type": "markdown",
   "execution_count": null,
   "metadata": {
    "papermill": {
     "duration": 0.024391,
     "end_time": "2020-09-05T12:27:09.253357",
     "exception": false,
     "start_time": "2020-09-05T12:27:09.228966",
     "status": "completed"
    },
    "tags": []
   },
   "source": [
    "## 3.4 One-hot encoding on Initial and Embarked\n",
    "\n",
    "- 수치화시킨 카테고리 데이터를 그대로 넣어도 되지만, 모델의 성능을 높이기 위해 one-hot encoding을 해줄 수 있습니다.\n",
    "\n",
    "- 수치화는 간단히 Master == 0, Miss == 1, Mr == 2, Mrs == 3, Other == 4로 매핑해주는 것을 말합니다.\n",
    "\n",
    "- One-hot encoding은 위 카테고리를 아래와 같이 (0,1)로 이루어진 5차원의 벡터로 나타내는 것을 말합니다.\n",
    "\n",
    "||Initial_Master|Initial_Miss|Initial_Mr|Initial_Mrs|Initial_Other|\n",
    "|:---:|:---:|:---:|:---:|:---:|:---:|\n",
    "|Master|1|0|0|0|0|\n",
    "|Miss|0|1|0|0|0|\n",
    "|Mr|0|0|1|0|0|\n",
    "|Mrs|0|0|0|1|0|\n",
    "|Other|0|0|0|0|1|\n",
    "\n",
    "<br>\n",
    "\n",
    "- 위와 같은 작업을 직접 코딩할 수도 있지만, pandas의 get_dummies를 사용하여 쉽게 해결 할 수 있습니다.\n",
    "\n",
    "- 총 5개의 카테고리니, one-hot encoding을 하고 나면 새로운 5개의 column이 생겨납니다.\n",
    "\n",
    "- Initial을 prefix로 두어서 구분이 쉽게 만들어 줍니다."
   ]
  },
  {
   "cell_type": "code",
   "execution_count": 22,
   "metadata": {
    "execution": {
     "iopub.execute_input": "2020-09-05T12:27:09.319198Z",
     "iopub.status.busy": "2020-09-05T12:27:09.315925Z",
     "iopub.status.idle": "2020-09-05T12:27:09.326647Z",
     "shell.execute_reply": "2020-09-05T12:27:09.327365Z"
    },
    "papermill": {
     "duration": 0.050578,
     "end_time": "2020-09-05T12:27:09.327543",
     "exception": false,
     "start_time": "2020-09-05T12:27:09.276965",
     "status": "completed"
    },
    "tags": []
   },
   "outputs": [],
   "source": [
    "df_train = pd.get_dummies(df_train, columns=['Initial'], prefix='Initial')\n",
    "df_test = pd.get_dummies(df_test, columns=['Initial'], prefix='Initial')"
   ]
  },
  {
   "cell_type": "code",
   "execution_count": 23,
   "metadata": {
    "execution": {
     "iopub.execute_input": "2020-09-05T12:27:09.403700Z",
     "iopub.status.busy": "2020-09-05T12:27:09.402342Z",
     "iopub.status.idle": "2020-09-05T12:27:09.407449Z",
     "shell.execute_reply": "2020-09-05T12:27:09.408060Z"
    },
    "papermill": {
     "duration": 0.056211,
     "end_time": "2020-09-05T12:27:09.408248",
     "exception": false,
     "start_time": "2020-09-05T12:27:09.352037",
     "status": "completed"
    },
    "tags": []
   },
   "outputs": [
    {
     "data": {
      "text/html": [
       "<div>\n",
       "<style scoped>\n",
       "    .dataframe tbody tr th:only-of-type {\n",
       "        vertical-align: middle;\n",
       "    }\n",
       "\n",
       "    .dataframe tbody tr th {\n",
       "        vertical-align: top;\n",
       "    }\n",
       "\n",
       "    .dataframe thead th {\n",
       "        text-align: right;\n",
       "    }\n",
       "</style>\n",
       "<table border=\"1\" class=\"dataframe\">\n",
       "  <thead>\n",
       "    <tr style=\"text-align: right;\">\n",
       "      <th></th>\n",
       "      <th>PassengerId</th>\n",
       "      <th>Survived</th>\n",
       "      <th>Pclass</th>\n",
       "      <th>Name</th>\n",
       "      <th>Sex</th>\n",
       "      <th>SibSp</th>\n",
       "      <th>Parch</th>\n",
       "      <th>Ticket</th>\n",
       "      <th>Fare</th>\n",
       "      <th>Cabin</th>\n",
       "      <th>Embarked</th>\n",
       "      <th>FamilySize</th>\n",
       "      <th>Age_cat</th>\n",
       "      <th>Initial_0</th>\n",
       "      <th>Initial_1</th>\n",
       "      <th>Initial_2</th>\n",
       "      <th>Initial_3</th>\n",
       "      <th>Initial_4</th>\n",
       "    </tr>\n",
       "  </thead>\n",
       "  <tbody>\n",
       "    <tr>\n",
       "      <th>0</th>\n",
       "      <td>1</td>\n",
       "      <td>0</td>\n",
       "      <td>3</td>\n",
       "      <td>Braund, Mr. Owen Harris</td>\n",
       "      <td>1</td>\n",
       "      <td>1</td>\n",
       "      <td>0</td>\n",
       "      <td>A/5 21171</td>\n",
       "      <td>1.981001</td>\n",
       "      <td>NaN</td>\n",
       "      <td>2</td>\n",
       "      <td>2</td>\n",
       "      <td>2</td>\n",
       "      <td>0</td>\n",
       "      <td>0</td>\n",
       "      <td>1</td>\n",
       "      <td>0</td>\n",
       "      <td>0</td>\n",
       "    </tr>\n",
       "    <tr>\n",
       "      <th>1</th>\n",
       "      <td>2</td>\n",
       "      <td>1</td>\n",
       "      <td>1</td>\n",
       "      <td>Cumings, Mrs. John Bradley (Florence Briggs Th...</td>\n",
       "      <td>0</td>\n",
       "      <td>1</td>\n",
       "      <td>0</td>\n",
       "      <td>PC 17599</td>\n",
       "      <td>4.266662</td>\n",
       "      <td>C85</td>\n",
       "      <td>0</td>\n",
       "      <td>2</td>\n",
       "      <td>3</td>\n",
       "      <td>0</td>\n",
       "      <td>0</td>\n",
       "      <td>0</td>\n",
       "      <td>1</td>\n",
       "      <td>0</td>\n",
       "    </tr>\n",
       "    <tr>\n",
       "      <th>2</th>\n",
       "      <td>3</td>\n",
       "      <td>1</td>\n",
       "      <td>3</td>\n",
       "      <td>Heikkinen, Miss. Laina</td>\n",
       "      <td>0</td>\n",
       "      <td>0</td>\n",
       "      <td>0</td>\n",
       "      <td>STON/O2. 3101282</td>\n",
       "      <td>2.070022</td>\n",
       "      <td>NaN</td>\n",
       "      <td>2</td>\n",
       "      <td>1</td>\n",
       "      <td>2</td>\n",
       "      <td>0</td>\n",
       "      <td>1</td>\n",
       "      <td>0</td>\n",
       "      <td>0</td>\n",
       "      <td>0</td>\n",
       "    </tr>\n",
       "    <tr>\n",
       "      <th>3</th>\n",
       "      <td>4</td>\n",
       "      <td>1</td>\n",
       "      <td>1</td>\n",
       "      <td>Futrelle, Mrs. Jacques Heath (Lily May Peel)</td>\n",
       "      <td>0</td>\n",
       "      <td>1</td>\n",
       "      <td>0</td>\n",
       "      <td>113803</td>\n",
       "      <td>3.972177</td>\n",
       "      <td>C123</td>\n",
       "      <td>2</td>\n",
       "      <td>2</td>\n",
       "      <td>3</td>\n",
       "      <td>0</td>\n",
       "      <td>0</td>\n",
       "      <td>0</td>\n",
       "      <td>1</td>\n",
       "      <td>0</td>\n",
       "    </tr>\n",
       "    <tr>\n",
       "      <th>4</th>\n",
       "      <td>5</td>\n",
       "      <td>0</td>\n",
       "      <td>3</td>\n",
       "      <td>Allen, Mr. William Henry</td>\n",
       "      <td>1</td>\n",
       "      <td>0</td>\n",
       "      <td>0</td>\n",
       "      <td>373450</td>\n",
       "      <td>2.085672</td>\n",
       "      <td>NaN</td>\n",
       "      <td>2</td>\n",
       "      <td>1</td>\n",
       "      <td>3</td>\n",
       "      <td>0</td>\n",
       "      <td>0</td>\n",
       "      <td>1</td>\n",
       "      <td>0</td>\n",
       "      <td>0</td>\n",
       "    </tr>\n",
       "  </tbody>\n",
       "</table>\n",
       "</div>"
      ],
      "text/plain": [
       "   PassengerId  Survived  Pclass  \\\n",
       "0            1         0       3   \n",
       "1            2         1       1   \n",
       "2            3         1       3   \n",
       "3            4         1       1   \n",
       "4            5         0       3   \n",
       "\n",
       "                                                Name  Sex  SibSp  Parch  \\\n",
       "0                            Braund, Mr. Owen Harris    1      1      0   \n",
       "1  Cumings, Mrs. John Bradley (Florence Briggs Th...    0      1      0   \n",
       "2                             Heikkinen, Miss. Laina    0      0      0   \n",
       "3       Futrelle, Mrs. Jacques Heath (Lily May Peel)    0      1      0   \n",
       "4                           Allen, Mr. William Henry    1      0      0   \n",
       "\n",
       "             Ticket      Fare Cabin  Embarked  FamilySize  Age_cat  Initial_0  \\\n",
       "0         A/5 21171  1.981001   NaN         2           2        2          0   \n",
       "1          PC 17599  4.266662   C85         0           2        3          0   \n",
       "2  STON/O2. 3101282  2.070022   NaN         2           1        2          0   \n",
       "3            113803  3.972177  C123         2           2        3          0   \n",
       "4            373450  2.085672   NaN         2           1        3          0   \n",
       "\n",
       "   Initial_1  Initial_2  Initial_3  Initial_4  \n",
       "0          0          1          0          0  \n",
       "1          0          0          1          0  \n",
       "2          1          0          0          0  \n",
       "3          0          0          1          0  \n",
       "4          0          1          0          0  "
      ]
     },
     "execution_count": 23,
     "metadata": {},
     "output_type": "execute_result"
    }
   ],
   "source": [
    "df_train.head()"
   ]
  },
  {
   "cell_type": "markdown",
   "execution_count": null,
   "metadata": {
    "papermill": {
     "duration": 0.024022,
     "end_time": "2020-09-05T12:27:09.457060",
     "exception": false,
     "start_time": "2020-09-05T12:27:09.433038",
     "status": "completed"
    },
    "tags": []
   },
   "source": [
    "- 보시다시피 오른쪽에 우리가 만들려고 했던 one-hot encoded columns가 생성된 것이 보입니다.\n",
    "\n",
    "- Embarked 에도 적용하겠습니다. Initial 때와 마찬가지로 one-hot encoding을 사용해 표현하겠습니다."
   ]
  },
  {
   "cell_type": "code",
   "execution_count": 24,
   "metadata": {
    "execution": {
     "iopub.execute_input": "2020-09-05T12:27:09.526846Z",
     "iopub.status.busy": "2020-09-05T12:27:09.514014Z",
     "iopub.status.idle": "2020-09-05T12:27:09.530247Z",
     "shell.execute_reply": "2020-09-05T12:27:09.530924Z"
    },
    "papermill": {
     "duration": 0.049077,
     "end_time": "2020-09-05T12:27:09.531099",
     "exception": false,
     "start_time": "2020-09-05T12:27:09.482022",
     "status": "completed"
    },
    "tags": []
   },
   "outputs": [],
   "source": [
    "df_train= pd.get_dummies(df_train, columns=['Embarked'], prefix='Embarked')\n",
    "df_test = pd.get_dummies(df_test, columns=['Embarked'], prefix='Embarked')"
   ]
  },
  {
   "cell_type": "code",
   "execution_count": 25,
   "metadata": {
    "execution": {
     "iopub.execute_input": "2020-09-05T12:27:09.604203Z",
     "iopub.status.busy": "2020-09-05T12:27:09.602989Z",
     "iopub.status.idle": "2020-09-05T12:27:09.608708Z",
     "shell.execute_reply": "2020-09-05T12:27:09.608012Z"
    },
    "papermill": {
     "duration": 0.053046,
     "end_time": "2020-09-05T12:27:09.608839",
     "exception": false,
     "start_time": "2020-09-05T12:27:09.555793",
     "status": "completed"
    },
    "tags": []
   },
   "outputs": [
    {
     "data": {
      "text/html": [
       "<div>\n",
       "<style scoped>\n",
       "    .dataframe tbody tr th:only-of-type {\n",
       "        vertical-align: middle;\n",
       "    }\n",
       "\n",
       "    .dataframe tbody tr th {\n",
       "        vertical-align: top;\n",
       "    }\n",
       "\n",
       "    .dataframe thead th {\n",
       "        text-align: right;\n",
       "    }\n",
       "</style>\n",
       "<table border=\"1\" class=\"dataframe\">\n",
       "  <thead>\n",
       "    <tr style=\"text-align: right;\">\n",
       "      <th></th>\n",
       "      <th>PassengerId</th>\n",
       "      <th>Survived</th>\n",
       "      <th>Pclass</th>\n",
       "      <th>Name</th>\n",
       "      <th>Sex</th>\n",
       "      <th>SibSp</th>\n",
       "      <th>Parch</th>\n",
       "      <th>Ticket</th>\n",
       "      <th>Fare</th>\n",
       "      <th>Cabin</th>\n",
       "      <th>FamilySize</th>\n",
       "      <th>Age_cat</th>\n",
       "      <th>Initial_0</th>\n",
       "      <th>Initial_1</th>\n",
       "      <th>Initial_2</th>\n",
       "      <th>Initial_3</th>\n",
       "      <th>Initial_4</th>\n",
       "      <th>Embarked_0</th>\n",
       "      <th>Embarked_1</th>\n",
       "      <th>Embarked_2</th>\n",
       "    </tr>\n",
       "  </thead>\n",
       "  <tbody>\n",
       "    <tr>\n",
       "      <th>0</th>\n",
       "      <td>1</td>\n",
       "      <td>0</td>\n",
       "      <td>3</td>\n",
       "      <td>Braund, Mr. Owen Harris</td>\n",
       "      <td>1</td>\n",
       "      <td>1</td>\n",
       "      <td>0</td>\n",
       "      <td>A/5 21171</td>\n",
       "      <td>1.981001</td>\n",
       "      <td>NaN</td>\n",
       "      <td>2</td>\n",
       "      <td>2</td>\n",
       "      <td>0</td>\n",
       "      <td>0</td>\n",
       "      <td>1</td>\n",
       "      <td>0</td>\n",
       "      <td>0</td>\n",
       "      <td>0</td>\n",
       "      <td>0</td>\n",
       "      <td>1</td>\n",
       "    </tr>\n",
       "    <tr>\n",
       "      <th>1</th>\n",
       "      <td>2</td>\n",
       "      <td>1</td>\n",
       "      <td>1</td>\n",
       "      <td>Cumings, Mrs. John Bradley (Florence Briggs Th...</td>\n",
       "      <td>0</td>\n",
       "      <td>1</td>\n",
       "      <td>0</td>\n",
       "      <td>PC 17599</td>\n",
       "      <td>4.266662</td>\n",
       "      <td>C85</td>\n",
       "      <td>2</td>\n",
       "      <td>3</td>\n",
       "      <td>0</td>\n",
       "      <td>0</td>\n",
       "      <td>0</td>\n",
       "      <td>1</td>\n",
       "      <td>0</td>\n",
       "      <td>1</td>\n",
       "      <td>0</td>\n",
       "      <td>0</td>\n",
       "    </tr>\n",
       "    <tr>\n",
       "      <th>2</th>\n",
       "      <td>3</td>\n",
       "      <td>1</td>\n",
       "      <td>3</td>\n",
       "      <td>Heikkinen, Miss. Laina</td>\n",
       "      <td>0</td>\n",
       "      <td>0</td>\n",
       "      <td>0</td>\n",
       "      <td>STON/O2. 3101282</td>\n",
       "      <td>2.070022</td>\n",
       "      <td>NaN</td>\n",
       "      <td>1</td>\n",
       "      <td>2</td>\n",
       "      <td>0</td>\n",
       "      <td>1</td>\n",
       "      <td>0</td>\n",
       "      <td>0</td>\n",
       "      <td>0</td>\n",
       "      <td>0</td>\n",
       "      <td>0</td>\n",
       "      <td>1</td>\n",
       "    </tr>\n",
       "    <tr>\n",
       "      <th>3</th>\n",
       "      <td>4</td>\n",
       "      <td>1</td>\n",
       "      <td>1</td>\n",
       "      <td>Futrelle, Mrs. Jacques Heath (Lily May Peel)</td>\n",
       "      <td>0</td>\n",
       "      <td>1</td>\n",
       "      <td>0</td>\n",
       "      <td>113803</td>\n",
       "      <td>3.972177</td>\n",
       "      <td>C123</td>\n",
       "      <td>2</td>\n",
       "      <td>3</td>\n",
       "      <td>0</td>\n",
       "      <td>0</td>\n",
       "      <td>0</td>\n",
       "      <td>1</td>\n",
       "      <td>0</td>\n",
       "      <td>0</td>\n",
       "      <td>0</td>\n",
       "      <td>1</td>\n",
       "    </tr>\n",
       "    <tr>\n",
       "      <th>4</th>\n",
       "      <td>5</td>\n",
       "      <td>0</td>\n",
       "      <td>3</td>\n",
       "      <td>Allen, Mr. William Henry</td>\n",
       "      <td>1</td>\n",
       "      <td>0</td>\n",
       "      <td>0</td>\n",
       "      <td>373450</td>\n",
       "      <td>2.085672</td>\n",
       "      <td>NaN</td>\n",
       "      <td>1</td>\n",
       "      <td>3</td>\n",
       "      <td>0</td>\n",
       "      <td>0</td>\n",
       "      <td>1</td>\n",
       "      <td>0</td>\n",
       "      <td>0</td>\n",
       "      <td>0</td>\n",
       "      <td>0</td>\n",
       "      <td>1</td>\n",
       "    </tr>\n",
       "  </tbody>\n",
       "</table>\n",
       "</div>"
      ],
      "text/plain": [
       "   PassengerId  Survived  Pclass  \\\n",
       "0            1         0       3   \n",
       "1            2         1       1   \n",
       "2            3         1       3   \n",
       "3            4         1       1   \n",
       "4            5         0       3   \n",
       "\n",
       "                                                Name  Sex  SibSp  Parch  \\\n",
       "0                            Braund, Mr. Owen Harris    1      1      0   \n",
       "1  Cumings, Mrs. John Bradley (Florence Briggs Th...    0      1      0   \n",
       "2                             Heikkinen, Miss. Laina    0      0      0   \n",
       "3       Futrelle, Mrs. Jacques Heath (Lily May Peel)    0      1      0   \n",
       "4                           Allen, Mr. William Henry    1      0      0   \n",
       "\n",
       "             Ticket      Fare Cabin  FamilySize  Age_cat  Initial_0  \\\n",
       "0         A/5 21171  1.981001   NaN           2        2          0   \n",
       "1          PC 17599  4.266662   C85           2        3          0   \n",
       "2  STON/O2. 3101282  2.070022   NaN           1        2          0   \n",
       "3            113803  3.972177  C123           2        3          0   \n",
       "4            373450  2.085672   NaN           1        3          0   \n",
       "\n",
       "   Initial_1  Initial_2  Initial_3  Initial_4  Embarked_0  Embarked_1  \\\n",
       "0          0          1          0          0           0           0   \n",
       "1          0          0          1          0           1           0   \n",
       "2          1          0          0          0           0           0   \n",
       "3          0          0          1          0           0           0   \n",
       "4          0          1          0          0           0           0   \n",
       "\n",
       "   Embarked_2  \n",
       "0           1  \n",
       "1           0  \n",
       "2           1  \n",
       "3           1  \n",
       "4           1  "
      ]
     },
     "execution_count": 25,
     "metadata": {},
     "output_type": "execute_result"
    }
   ],
   "source": [
    "df_train.head()"
   ]
  },
  {
   "cell_type": "markdown",
   "execution_count": null,
   "metadata": {
    "papermill": {
     "duration": 0.025336,
     "end_time": "2020-09-05T12:27:09.659669",
     "exception": false,
     "start_time": "2020-09-05T12:27:09.634333",
     "status": "completed"
    },
    "tags": []
   },
   "source": [
    "- 아주 쉽게 one-hot encoding을 적용했습니다.\n",
    "\n",
    "- sklearn로 Labelencoder + OneHotencoder를 이용해도 one-hot encoding이 가능합니다.\n",
    "\n",
    "- 다른 튜토리얼에서 한번 써보겠습니다. 여기서는 get_dummies로 충분히 가능하기 때문에 get_dummies 만으로 끝내겠습니다.\n",
    "\n",
    "- 가끔 category가 100개 넘어가는 경우가 있습니다. 이때 one-hot encoding을 사용하면 column이 100개 생겨, 학습시 매우 버거울 경우가 있습니다. 이런 경우는 다른 방법을 사용하기도 하는데, 이는 다음에 한번 다뤄보겠습니다."
   ]
  },
  {
   "cell_type": "markdown",
   "execution_count": null,
   "metadata": {
    "papermill": {
     "duration": 0.024601,
     "end_time": "2020-09-05T12:27:09.709495",
     "exception": false,
     "start_time": "2020-09-05T12:27:09.684894",
     "status": "completed"
    },
    "tags": []
   },
   "source": [
    "## 3.5 Drop columns\n",
    "\n",
    "- 고생하셨습니다. 이제 책상을 치울 때 입니다. 필요한 columns만 남기고 다 지웁시다."
   ]
  },
  {
   "cell_type": "code",
   "execution_count": 26,
   "metadata": {
    "execution": {
     "iopub.execute_input": "2020-09-05T12:27:09.768796Z",
     "iopub.status.busy": "2020-09-05T12:27:09.767981Z",
     "iopub.status.idle": "2020-09-05T12:27:09.775685Z",
     "shell.execute_reply": "2020-09-05T12:27:09.774783Z"
    },
    "papermill": {
     "duration": 0.039759,
     "end_time": "2020-09-05T12:27:09.775838",
     "exception": false,
     "start_time": "2020-09-05T12:27:09.736079",
     "status": "completed"
    },
    "tags": []
   },
   "outputs": [],
   "source": [
    "df_train.drop(['PassengerId', 'Name', 'SibSp', 'Parch', 'Ticket', 'Cabin'], axis=1, inplace=True)\n",
    "df_test.drop(['PassengerId', 'Name',  'SibSp', 'Parch', 'Ticket', 'Cabin'], axis=1, inplace=True)"
   ]
  },
  {
   "cell_type": "code",
   "execution_count": 27,
   "metadata": {
    "execution": {
     "iopub.execute_input": "2020-09-05T12:27:09.844231Z",
     "iopub.status.busy": "2020-09-05T12:27:09.843295Z",
     "iopub.status.idle": "2020-09-05T12:27:09.848218Z",
     "shell.execute_reply": "2020-09-05T12:27:09.847408Z"
    },
    "papermill": {
     "duration": 0.047451,
     "end_time": "2020-09-05T12:27:09.848372",
     "exception": false,
     "start_time": "2020-09-05T12:27:09.800921",
     "status": "completed"
    },
    "tags": []
   },
   "outputs": [
    {
     "data": {
      "text/html": [
       "<div>\n",
       "<style scoped>\n",
       "    .dataframe tbody tr th:only-of-type {\n",
       "        vertical-align: middle;\n",
       "    }\n",
       "\n",
       "    .dataframe tbody tr th {\n",
       "        vertical-align: top;\n",
       "    }\n",
       "\n",
       "    .dataframe thead th {\n",
       "        text-align: right;\n",
       "    }\n",
       "</style>\n",
       "<table border=\"1\" class=\"dataframe\">\n",
       "  <thead>\n",
       "    <tr style=\"text-align: right;\">\n",
       "      <th></th>\n",
       "      <th>Survived</th>\n",
       "      <th>Pclass</th>\n",
       "      <th>Sex</th>\n",
       "      <th>Fare</th>\n",
       "      <th>FamilySize</th>\n",
       "      <th>Age_cat</th>\n",
       "      <th>Initial_0</th>\n",
       "      <th>Initial_1</th>\n",
       "      <th>Initial_2</th>\n",
       "      <th>Initial_3</th>\n",
       "      <th>Initial_4</th>\n",
       "      <th>Embarked_0</th>\n",
       "      <th>Embarked_1</th>\n",
       "      <th>Embarked_2</th>\n",
       "    </tr>\n",
       "  </thead>\n",
       "  <tbody>\n",
       "    <tr>\n",
       "      <th>0</th>\n",
       "      <td>0</td>\n",
       "      <td>3</td>\n",
       "      <td>1</td>\n",
       "      <td>1.981001</td>\n",
       "      <td>2</td>\n",
       "      <td>2</td>\n",
       "      <td>0</td>\n",
       "      <td>0</td>\n",
       "      <td>1</td>\n",
       "      <td>0</td>\n",
       "      <td>0</td>\n",
       "      <td>0</td>\n",
       "      <td>0</td>\n",
       "      <td>1</td>\n",
       "    </tr>\n",
       "    <tr>\n",
       "      <th>1</th>\n",
       "      <td>1</td>\n",
       "      <td>1</td>\n",
       "      <td>0</td>\n",
       "      <td>4.266662</td>\n",
       "      <td>2</td>\n",
       "      <td>3</td>\n",
       "      <td>0</td>\n",
       "      <td>0</td>\n",
       "      <td>0</td>\n",
       "      <td>1</td>\n",
       "      <td>0</td>\n",
       "      <td>1</td>\n",
       "      <td>0</td>\n",
       "      <td>0</td>\n",
       "    </tr>\n",
       "    <tr>\n",
       "      <th>2</th>\n",
       "      <td>1</td>\n",
       "      <td>3</td>\n",
       "      <td>0</td>\n",
       "      <td>2.070022</td>\n",
       "      <td>1</td>\n",
       "      <td>2</td>\n",
       "      <td>0</td>\n",
       "      <td>1</td>\n",
       "      <td>0</td>\n",
       "      <td>0</td>\n",
       "      <td>0</td>\n",
       "      <td>0</td>\n",
       "      <td>0</td>\n",
       "      <td>1</td>\n",
       "    </tr>\n",
       "    <tr>\n",
       "      <th>3</th>\n",
       "      <td>1</td>\n",
       "      <td>1</td>\n",
       "      <td>0</td>\n",
       "      <td>3.972177</td>\n",
       "      <td>2</td>\n",
       "      <td>3</td>\n",
       "      <td>0</td>\n",
       "      <td>0</td>\n",
       "      <td>0</td>\n",
       "      <td>1</td>\n",
       "      <td>0</td>\n",
       "      <td>0</td>\n",
       "      <td>0</td>\n",
       "      <td>1</td>\n",
       "    </tr>\n",
       "    <tr>\n",
       "      <th>4</th>\n",
       "      <td>0</td>\n",
       "      <td>3</td>\n",
       "      <td>1</td>\n",
       "      <td>2.085672</td>\n",
       "      <td>1</td>\n",
       "      <td>3</td>\n",
       "      <td>0</td>\n",
       "      <td>0</td>\n",
       "      <td>1</td>\n",
       "      <td>0</td>\n",
       "      <td>0</td>\n",
       "      <td>0</td>\n",
       "      <td>0</td>\n",
       "      <td>1</td>\n",
       "    </tr>\n",
       "  </tbody>\n",
       "</table>\n",
       "</div>"
      ],
      "text/plain": [
       "   Survived  Pclass  Sex      Fare  FamilySize  Age_cat  Initial_0  Initial_1  \\\n",
       "0         0       3    1  1.981001           2        2          0          0   \n",
       "1         1       1    0  4.266662           2        3          0          0   \n",
       "2         1       3    0  2.070022           1        2          0          1   \n",
       "3         1       1    0  3.972177           2        3          0          0   \n",
       "4         0       3    1  2.085672           1        3          0          0   \n",
       "\n",
       "   Initial_2  Initial_3  Initial_4  Embarked_0  Embarked_1  Embarked_2  \n",
       "0          1          0          0           0           0           1  \n",
       "1          0          1          0           1           0           0  \n",
       "2          0          0          0           0           0           1  \n",
       "3          0          1          0           0           0           1  \n",
       "4          1          0          0           0           0           1  "
      ]
     },
     "execution_count": 27,
     "metadata": {},
     "output_type": "execute_result"
    }
   ],
   "source": [
    "df_train.head()"
   ]
  },
  {
   "cell_type": "code",
   "execution_count": 28,
   "metadata": {
    "execution": {
     "iopub.execute_input": "2020-09-05T12:27:09.922952Z",
     "iopub.status.busy": "2020-09-05T12:27:09.921420Z",
     "iopub.status.idle": "2020-09-05T12:27:09.928139Z",
     "shell.execute_reply": "2020-09-05T12:27:09.927175Z"
    },
    "papermill": {
     "duration": 0.05241,
     "end_time": "2020-09-05T12:27:09.928303",
     "exception": false,
     "start_time": "2020-09-05T12:27:09.875893",
     "status": "completed"
    },
    "tags": []
   },
   "outputs": [
    {
     "data": {
      "text/html": [
       "<div>\n",
       "<style scoped>\n",
       "    .dataframe tbody tr th:only-of-type {\n",
       "        vertical-align: middle;\n",
       "    }\n",
       "\n",
       "    .dataframe tbody tr th {\n",
       "        vertical-align: top;\n",
       "    }\n",
       "\n",
       "    .dataframe thead th {\n",
       "        text-align: right;\n",
       "    }\n",
       "</style>\n",
       "<table border=\"1\" class=\"dataframe\">\n",
       "  <thead>\n",
       "    <tr style=\"text-align: right;\">\n",
       "      <th></th>\n",
       "      <th>Pclass</th>\n",
       "      <th>Sex</th>\n",
       "      <th>Fare</th>\n",
       "      <th>FamilySize</th>\n",
       "      <th>Age_cat</th>\n",
       "      <th>Initial_0</th>\n",
       "      <th>Initial_1</th>\n",
       "      <th>Initial_2</th>\n",
       "      <th>Initial_3</th>\n",
       "      <th>Initial_4</th>\n",
       "      <th>Embarked_0</th>\n",
       "      <th>Embarked_1</th>\n",
       "      <th>Embarked_2</th>\n",
       "    </tr>\n",
       "  </thead>\n",
       "  <tbody>\n",
       "    <tr>\n",
       "      <th>0</th>\n",
       "      <td>3</td>\n",
       "      <td>1</td>\n",
       "      <td>2.057860</td>\n",
       "      <td>1</td>\n",
       "      <td>3</td>\n",
       "      <td>0</td>\n",
       "      <td>0</td>\n",
       "      <td>1</td>\n",
       "      <td>0</td>\n",
       "      <td>0</td>\n",
       "      <td>0</td>\n",
       "      <td>1</td>\n",
       "      <td>0</td>\n",
       "    </tr>\n",
       "    <tr>\n",
       "      <th>1</th>\n",
       "      <td>3</td>\n",
       "      <td>0</td>\n",
       "      <td>1.945910</td>\n",
       "      <td>2</td>\n",
       "      <td>4</td>\n",
       "      <td>0</td>\n",
       "      <td>0</td>\n",
       "      <td>0</td>\n",
       "      <td>1</td>\n",
       "      <td>0</td>\n",
       "      <td>0</td>\n",
       "      <td>0</td>\n",
       "      <td>1</td>\n",
       "    </tr>\n",
       "    <tr>\n",
       "      <th>2</th>\n",
       "      <td>2</td>\n",
       "      <td>1</td>\n",
       "      <td>2.270836</td>\n",
       "      <td>1</td>\n",
       "      <td>6</td>\n",
       "      <td>0</td>\n",
       "      <td>0</td>\n",
       "      <td>1</td>\n",
       "      <td>0</td>\n",
       "      <td>0</td>\n",
       "      <td>0</td>\n",
       "      <td>1</td>\n",
       "      <td>0</td>\n",
       "    </tr>\n",
       "    <tr>\n",
       "      <th>3</th>\n",
       "      <td>3</td>\n",
       "      <td>1</td>\n",
       "      <td>2.159003</td>\n",
       "      <td>1</td>\n",
       "      <td>2</td>\n",
       "      <td>0</td>\n",
       "      <td>0</td>\n",
       "      <td>1</td>\n",
       "      <td>0</td>\n",
       "      <td>0</td>\n",
       "      <td>0</td>\n",
       "      <td>0</td>\n",
       "      <td>1</td>\n",
       "    </tr>\n",
       "    <tr>\n",
       "      <th>4</th>\n",
       "      <td>3</td>\n",
       "      <td>0</td>\n",
       "      <td>2.508582</td>\n",
       "      <td>3</td>\n",
       "      <td>2</td>\n",
       "      <td>0</td>\n",
       "      <td>0</td>\n",
       "      <td>0</td>\n",
       "      <td>1</td>\n",
       "      <td>0</td>\n",
       "      <td>0</td>\n",
       "      <td>0</td>\n",
       "      <td>1</td>\n",
       "    </tr>\n",
       "  </tbody>\n",
       "</table>\n",
       "</div>"
      ],
      "text/plain": [
       "   Pclass  Sex      Fare  FamilySize  Age_cat  Initial_0  Initial_1  \\\n",
       "0       3    1  2.057860           1        3          0          0   \n",
       "1       3    0  1.945910           2        4          0          0   \n",
       "2       2    1  2.270836           1        6          0          0   \n",
       "3       3    1  2.159003           1        2          0          0   \n",
       "4       3    0  2.508582           3        2          0          0   \n",
       "\n",
       "   Initial_2  Initial_3  Initial_4  Embarked_0  Embarked_1  Embarked_2  \n",
       "0          1          0          0           0           1           0  \n",
       "1          0          1          0           0           0           1  \n",
       "2          1          0          0           0           1           0  \n",
       "3          1          0          0           0           0           1  \n",
       "4          0          1          0           0           0           1  "
      ]
     },
     "execution_count": 28,
     "metadata": {},
     "output_type": "execute_result"
    }
   ],
   "source": [
    "df_test.head()"
   ]
  },
  {
   "cell_type": "markdown",
   "execution_count": null,
   "metadata": {
    "papermill": {
     "duration": 0.027413,
     "end_time": "2020-09-05T12:27:09.982950",
     "exception": false,
     "start_time": "2020-09-05T12:27:09.955537",
     "status": "completed"
    },
    "tags": []
   },
   "source": [
    "- 보시다피시, train의 Survived feature(target class)를 빼면 train, test 둘다 같은 columns를 가진 걸 확인할 수 있습니다."
   ]
  },
  {
   "cell_type": "markdown",
   "execution_count": null,
   "metadata": {
    "papermill": {
     "duration": 0.028057,
     "end_time": "2020-09-05T12:27:10.041494",
     "exception": false,
     "start_time": "2020-09-05T12:27:10.013437",
     "status": "completed"
    },
    "tags": []
   },
   "source": [
    "# 4. Building machine learning model and prediction using the trained model\n",
    "\n",
    "- 이제 준비가 다 되었으니 sklearn을 사용해 본격적으로 머신러닝 모델을 만들어 봅시다."
   ]
  },
  {
   "cell_type": "code",
   "execution_count": 29,
   "metadata": {
    "execution": {
     "iopub.execute_input": "2020-09-05T12:27:10.102816Z",
     "iopub.status.busy": "2020-09-05T12:27:10.101741Z",
     "iopub.status.idle": "2020-09-05T12:27:10.566661Z",
     "shell.execute_reply": "2020-09-05T12:27:10.565904Z"
    },
    "papermill": {
     "duration": 0.497803,
     "end_time": "2020-09-05T12:27:10.566842",
     "exception": false,
     "start_time": "2020-09-05T12:27:10.069039",
     "status": "completed"
    },
    "tags": []
   },
   "outputs": [],
   "source": [
    "#importing all the required ML packages\n",
    "from sklearn.ensemble import RandomForestClassifier\n",
    "from sklearn import metrics # 모델의 평가를 위해서 사용\n",
    "from sklearn.model_selection import train_test_split # traing set을 쉽게 나눠주는 함수"
   ]
  },
  {
   "cell_type": "markdown",
   "execution_count": null,
   "metadata": {
    "papermill": {
     "duration": 0.025728,
     "end_time": "2020-09-05T12:27:10.618039",
     "exception": false,
     "start_time": "2020-09-05T12:27:10.592311",
     "status": "completed"
    },
    "tags": []
   },
   "source": [
    "- sklearn은 머신러닝의 처음부터 끝까지가 다 있습니다. feature engineering, preprocessing, 지도 학습 알고리즘, 비지도 학습 알고리즘, 모델 평가, 파이프라인 등 머신러닝에 관련된 모든 작업들이 손쉬운 인터페이스로 구현되어 있습니다. 데이터 분석 + 머신러닝을 하고싶다면, 이 라이브러리는 반드시 숙지해야합니다.\n",
    "\n",
    "- 파있썬 라이브러리를 활용한 머신러닝(Introduction to machine learning with Python)책을 사서 공부하시길 매우 추천드립니다.\n",
    "\n",
    "<br>\n",
    "\n",
    "- 지금 타이타닉 문제는 target class(survived)가 있으며, target class는 0, 1로 이루어져 있으므로(binary) binary classification 문제입니다.\n",
    "\n",
    "- 우리가 지금 가지고 있는 train set의 survived를 제외한 input을 가지고 모델을 최적화시켜서 각 샘플(탑승객)의 생존유무를 판단하는 모델을 만들어 냅니다.\n",
    "\n",
    "- 그 후 모델이 학습하지 않았던 test set을 input으로 주어서 test set의 각 샘플(탑승객)의 생존 유무를 예측해봅니다."
   ]
  },
  {
   "cell_type": "markdown",
   "execution_count": null,
   "metadata": {
    "papermill": {
     "duration": 0.026001,
     "end_time": "2020-09-05T12:27:10.672580",
     "exception": false,
     "start_time": "2020-09-05T12:27:10.646579",
     "status": "completed"
    },
    "tags": []
   },
   "source": [
    "## 4.1 Preparation - Split dataset into train, valid, test set\n",
    "\n",
    "- 가자 먼저, 학습에 쓰일 데이터와, target label(Survived)를 분리합니다. drop을 사용해 간단히 할 수 있습니다."
   ]
  },
  {
   "cell_type": "code",
   "execution_count": 30,
   "metadata": {
    "execution": {
     "iopub.execute_input": "2020-09-05T12:27:10.735264Z",
     "iopub.status.busy": "2020-09-05T12:27:10.734270Z",
     "iopub.status.idle": "2020-09-05T12:27:10.739081Z",
     "shell.execute_reply": "2020-09-05T12:27:10.738221Z"
    },
    "papermill": {
     "duration": 0.040326,
     "end_time": "2020-09-05T12:27:10.739223",
     "exception": false,
     "start_time": "2020-09-05T12:27:10.698897",
     "status": "completed"
    },
    "tags": []
   },
   "outputs": [],
   "source": [
    "X_train = df_train.drop('Survived', axis=1).values\n",
    "target_label = df_train['Survived'].values\n",
    "X_test = df_test.values"
   ]
  },
  {
   "cell_type": "markdown",
   "execution_count": null,
   "metadata": {
    "papermill": {
     "duration": 0.025828,
     "end_time": "2020-09-05T12:27:10.792426",
     "exception": false,
     "start_time": "2020-09-05T12:27:10.766598",
     "status": "completed"
    },
    "tags": []
   },
   "source": [
    "- 보통 train, test만 언급되지만, 실제 좋은 모델을 만들기 위해서 우리는 valid set을 따로 만들어 모델 평가를 해봅니다.\n",
    "\n",
    "- 마치 축구대표팀이 팀훈련(train)을 하고 바로 월드컵(test)로 나가는 것이 아니라, 팀훈련(train)을 한 다음 평가전(valid)을 거쳐 팀의 훈련 정도(학습정도)를 확인하고 월드컵(test)에 나가는 것과 비슷합니다.\n",
    "\n",
    "- train_test_split을 사용하여 쉽게 train 셋을 분리할 수 있습니다."
   ]
  },
  {
   "cell_type": "code",
   "execution_count": 31,
   "metadata": {
    "execution": {
     "iopub.execute_input": "2020-09-05T12:27:10.851517Z",
     "iopub.status.busy": "2020-09-05T12:27:10.850484Z",
     "iopub.status.idle": "2020-09-05T12:27:10.855632Z",
     "shell.execute_reply": "2020-09-05T12:27:10.854941Z"
    },
    "papermill": {
     "duration": 0.036898,
     "end_time": "2020-09-05T12:27:10.855766",
     "exception": false,
     "start_time": "2020-09-05T12:27:10.818868",
     "status": "completed"
    },
    "tags": []
   },
   "outputs": [],
   "source": [
    "X_tr, X_vld, y_tr, y_vld = train_test_split(X_train, target_label, test_size=0.3, random_state=2018)"
   ]
  },
  {
   "cell_type": "markdown",
   "execution_count": null,
   "metadata": {
    "papermill": {
     "duration": 0.026784,
     "end_time": "2020-09-05T12:27:10.911005",
     "exception": false,
     "start_time": "2020-09-05T12:27:10.884221",
     "status": "completed"
    },
    "tags": []
   },
   "source": [
    "- sklearn에서는 여러 머신러닝 알고리즘을 지원해줍니다. 열거하기엔 너무 많으므로, 직접 documentationㅊ에 들어가 보시길 추천합니다. https://scikit-learn.org/stable/supervised_learning.html#supervised-learning\n",
    "\n",
    "- 본 튜토리얼에서는 랜덤포레스트 모델을 사용하도록 하겠습니다.\n",
    "\n",
    "- 랜덤포레스트는 결정트리기반 모델이며, 여러 결정 트리들을 앙상블한 모델입니다.\n",
    "\n",
    "- 각 머신러닝 알고리즘에는 여러 파라미터들이 있습니다. 랜덤포레스트분류기도 n_estimators, max_features, max_depth, min_samples_split, min_samples_leaf 등 여러 파라미터들이 존재합니다. 이것들이 어떻게 세팅되냐에 따라 같은 데이터셋이라 하더라도 모델의 성능이 달라집니다.\n",
    "\n",
    "- 파리미터 튜닝은 시간, 경험, 알고리즘에 대한 이해 등이 필요합니다. 결국 많이 써봐야 모델도 잘 세울 수 있는 것이죠. 그래서 캐글을 추천합니다. 여러 데이터셋을 가지고 모델을 이리저리 써봐야 튜닝하는 감이 생길테니까요\n",
    "\n",
    "- 일단 지금은 튜토리얼이니 파라미터 튜닝은 잠시 제쳐두고, 기본 세팅으로 진행을 해봅시다.\n",
    "\n",
    "- 모델 객체를 만들고, fit 메소드로 학습시킵니다.\n",
    "\n",
    "- 그런 후 valid set input 을 넣어주어 예츨값(x_vld sample(탑승객)의 생존여부)를 얻습니다."
   ]
  },
  {
   "cell_type": "markdown",
   "execution_count": null,
   "metadata": {
    "papermill": {
     "duration": 0.02746,
     "end_time": "2020-09-05T12:27:10.964669",
     "exception": false,
     "start_time": "2020-09-05T12:27:10.937209",
     "status": "completed"
    },
    "tags": []
   },
   "source": [
    "## 4.2 Model generation and prediction"
   ]
  },
  {
   "cell_type": "code",
   "execution_count": 32,
   "metadata": {
    "execution": {
     "iopub.execute_input": "2020-09-05T12:27:11.063717Z",
     "iopub.status.busy": "2020-09-05T12:27:11.042893Z",
     "iopub.status.idle": "2020-09-05T12:27:11.342075Z",
     "shell.execute_reply": "2020-09-05T12:27:11.341248Z"
    },
    "papermill": {
     "duration": 0.351737,
     "end_time": "2020-09-05T12:27:11.342212",
     "exception": false,
     "start_time": "2020-09-05T12:27:10.990475",
     "status": "completed"
    },
    "tags": []
   },
   "outputs": [],
   "source": [
    "model = RandomForestClassifier()\n",
    "model.fit(X_tr, y_tr)\n",
    "prediction = model.predict(X_vld)"
   ]
  },
  {
   "cell_type": "markdown",
   "execution_count": null,
   "metadata": {
    "papermill": {
     "duration": 0.028884,
     "end_time": "2020-09-05T12:27:11.398938",
     "exception": false,
     "start_time": "2020-09-05T12:27:11.370054",
     "status": "completed"
    },
    "tags": []
   },
   "source": [
    "- 단 세줄만으로 여러분은 모델을 세우고, 예측까지 해봤습니다.\n",
    "\n",
    "- 자, 이제 모델의 성능을 한번 살펴보겠습니다."
   ]
  },
  {
   "cell_type": "code",
   "execution_count": 33,
   "metadata": {
    "execution": {
     "iopub.execute_input": "2020-09-05T12:27:11.459733Z",
     "iopub.status.busy": "2020-09-05T12:27:11.458654Z",
     "iopub.status.idle": "2020-09-05T12:27:11.462412Z",
     "shell.execute_reply": "2020-09-05T12:27:11.463214Z"
    },
    "papermill": {
     "duration": 0.037244,
     "end_time": "2020-09-05T12:27:11.463424",
     "exception": false,
     "start_time": "2020-09-05T12:27:11.426180",
     "status": "completed"
    },
    "tags": []
   },
   "outputs": [
    {
     "name": "stdout",
     "output_type": "stream",
     "text": [
      "총 268명 중 82.09% 정확도로 생존을 맞춤\n"
     ]
    }
   ],
   "source": [
    "print('총 {}명 중 {:.2f}% 정확도로 생존을 맞춤'.format(y_vld.shape[0], 100 * metrics.accuracy_score(prediction, y_vld)))"
   ]
  },
  {
   "cell_type": "markdown",
   "execution_count": null,
   "metadata": {
    "papermill": {
     "duration": 0.025895,
     "end_time": "2020-09-05T12:27:11.516713",
     "exception": false,
     "start_time": "2020-09-05T12:27:11.490818",
     "status": "completed"
    },
    "tags": []
   },
   "source": [
    "- 아무런 파라미터 튜닝도 하지 않았는데 83.21%의 정확도가 나왔습니다."
   ]
  },
  {
   "cell_type": "markdown",
   "execution_count": null,
   "metadata": {
    "papermill": {
     "duration": 0.025805,
     "end_time": "2020-09-05T12:27:11.569282",
     "exception": false,
     "start_time": "2020-09-05T12:27:11.543477",
     "status": "completed"
    },
    "tags": []
   },
   "source": [
    "## 4.3 Feature importance\n",
    "\n",
    "- 학습된 모델은 feature importance를 가지게 되는데, 우리는 이것을 확인하여 지금 만든 모델이 어떤 feature에 영향을 많이 받았는지 확인할 수 있습니다.\n",
    "\n",
    "- 쉽게 말해, 10 = 4x1 + 2x2 + 1*x3 을 생각하면, 우리는 x1이 결과값(10)에 큰 영향을 준다고 생각할 수 있습니다. feature importance는 4, 2, 1을 이야기하며, x1이 가장 큰 값(4)를 가지므로, 이 모델에 가장 큰 영향을 미친다고 말할 수 있습니다.\n",
    "\n",
    "<br>\n",
    "\n",
    "- 학습된 모델은 기본적으로 feature importance를 가지고 있어서 쉽게 그 수치를 얻을 수 있습니다.\n",
    "\n",
    "- pandas series를 이용하면 쉽게 sorting을 하여 그래프를 그릴수 있습니다."
   ]
  },
  {
   "cell_type": "code",
   "execution_count": 34,
   "metadata": {
    "execution": {
     "iopub.execute_input": "2020-09-05T12:27:11.633036Z",
     "iopub.status.busy": "2020-09-05T12:27:11.631868Z",
     "iopub.status.idle": "2020-09-05T12:27:11.646637Z",
     "shell.execute_reply": "2020-09-05T12:27:11.645791Z"
    },
    "papermill": {
     "duration": 0.051555,
     "end_time": "2020-09-05T12:27:11.646780",
     "exception": false,
     "start_time": "2020-09-05T12:27:11.595225",
     "status": "completed"
    },
    "tags": []
   },
   "outputs": [],
   "source": [
    "feature_importance = model.feature_importances_\n",
    "Series_feat_imp = pd.Series(feature_importance, index=df_test.columns)"
   ]
  },
  {
   "cell_type": "code",
   "execution_count": 35,
   "metadata": {
    "execution": {
     "iopub.execute_input": "2020-09-05T12:27:11.722354Z",
     "iopub.status.busy": "2020-09-05T12:27:11.708444Z",
     "iopub.status.idle": "2020-09-05T12:27:12.096512Z",
     "shell.execute_reply": "2020-09-05T12:27:12.095638Z"
    },
    "papermill": {
     "duration": 0.422712,
     "end_time": "2020-09-05T12:27:12.096694",
     "exception": false,
     "start_time": "2020-09-05T12:27:11.673982",
     "status": "completed"
    },
    "tags": []
   },
   "outputs": [
    {
     "data": {
      "image/png": "[encoded data removed]",
      "text/plain": [
       "<Figure size 576x576 with 1 Axes>"
      ]
     },
     "metadata": {
      "needs_background": "light"
     },
     "output_type": "display_data"
    }
   ],
   "source": [
    "plt.figure(figsize=(8,8))\n",
    "Series_feat_imp.sort_values(ascending=True).plot.barh()\n",
    "plt.xlabel('Feature importance')\n",
    "plt.ylabel('Feature')\n",
    "plt.show()"
   ]
  },
  {
   "cell_type": "markdown",
   "execution_count": null,
   "metadata": {
    "papermill": {
     "duration": 0.026657,
     "end_time": "2020-09-05T12:27:12.151513",
     "exception": false,
     "start_time": "2020-09-05T12:27:12.124856",
     "status": "completed"
    },
    "tags": []
   },
   "source": [
    "- 우리가 얻은 모델에서는 Fare가 가장 큰 영향력을 가지며, 그 뒤로 Initial_2, Age_cat,  Sex, Pclass가 차례로 중요도를 가집니다.\n",
    "\n",
    "- 사실 feature importance는 지금 모델에서의 importance를 나타냅니다. 만약 다른 모델을 사용하게 된다면 feature importance가 다르게 나올 수 있습니다.\n",
    "\n",
    "- 이 feature importance를 보고 실제로 Fare가 중요한 feature 일 수 있다고 판단을 내릴 수 있지만, 이것은 결국 모델에 귀속되는 하나의 결론이므로 통계적으로 좀 더 살펴보긴 해야합니다.\n",
    "\n",
    "- feature importance를 가지고 좀 더 정확도가 높은 모델을 얻기 위해 feature selection을 할 수도 있고, 좀 더 빠른 모델을 위해 feature 제거를 할 수 있습니다."
   ]
  },
  {
   "cell_type": "markdown",
   "execution_count": null,
   "metadata": {
    "papermill": {
     "duration": 0.026713,
     "end_time": "2020-09-05T12:27:12.205898",
     "exception": false,
     "start_time": "2020-09-05T12:27:12.179185",
     "status": "completed"
    },
    "tags": []
   },
   "source": [
    "## 4.4 Prediction on Test set\n",
    "\n",
    "- 이제 모델이 학습하지 않았던(보지 않았던) 테스트셋을 모델에 주어서, 생존여부를 예측해보겠습니다.\n",
    "\n",
    "- 이 결과는 실제로 submission(제출용) 이므로 결과는 leaderboard에서 확인할 수 있습니다.\n",
    "\n",
    "- 캐글에서 준 파일, gender_submission.csv 파일을 읽어서 제출 준비를 하겠습니다."
   ]
  },
  {
   "cell_type": "code",
   "execution_count": 36,
   "metadata": {
    "execution": {
     "iopub.execute_input": "2020-09-05T12:27:12.275782Z",
     "iopub.status.busy": "2020-09-05T12:27:12.274521Z",
     "iopub.status.idle": "2020-09-05T12:27:12.283651Z",
     "shell.execute_reply": "2020-09-05T12:27:12.282310Z"
    },
    "papermill": {
     "duration": 0.051087,
     "end_time": "2020-09-05T12:27:12.283892",
     "exception": false,
     "start_time": "2020-09-05T12:27:12.232805",
     "status": "completed"
    },
    "tags": []
   },
   "outputs": [],
   "source": [
    "submission = pd.read_csv('../input/titanic/gender_submission.csv')"
   ]
  },
  {
   "cell_type": "code",
   "execution_count": 37,
   "metadata": {
    "execution": {
     "iopub.execute_input": "2020-09-05T12:27:12.364397Z",
     "iopub.status.busy": "2020-09-05T12:27:12.362715Z",
     "iopub.status.idle": "2020-09-05T12:27:12.368535Z",
     "shell.execute_reply": "2020-09-05T12:27:12.369658Z"
    },
    "papermill": {
     "duration": 0.051501,
     "end_time": "2020-09-05T12:27:12.369883",
     "exception": false,
     "start_time": "2020-09-05T12:27:12.318382",
     "status": "completed"
    },
    "tags": []
   },
   "outputs": [
    {
     "data": {
      "text/html": [
       "<div>\n",
       "<style scoped>\n",
       "    .dataframe tbody tr th:only-of-type {\n",
       "        vertical-align: middle;\n",
       "    }\n",
       "\n",
       "    .dataframe tbody tr th {\n",
       "        vertical-align: top;\n",
       "    }\n",
       "\n",
       "    .dataframe thead th {\n",
       "        text-align: right;\n",
       "    }\n",
       "</style>\n",
       "<table border=\"1\" class=\"dataframe\">\n",
       "  <thead>\n",
       "    <tr style=\"text-align: right;\">\n",
       "      <th></th>\n",
       "      <th>PassengerId</th>\n",
       "      <th>Survived</th>\n",
       "    </tr>\n",
       "  </thead>\n",
       "  <tbody>\n",
       "    <tr>\n",
       "      <th>0</th>\n",
       "      <td>892</td>\n",
       "      <td>0</td>\n",
       "    </tr>\n",
       "    <tr>\n",
       "      <th>1</th>\n",
       "      <td>893</td>\n",
       "      <td>1</td>\n",
       "    </tr>\n",
       "    <tr>\n",
       "      <th>2</th>\n",
       "      <td>894</td>\n",
       "      <td>0</td>\n",
       "    </tr>\n",
       "    <tr>\n",
       "      <th>3</th>\n",
       "      <td>895</td>\n",
       "      <td>0</td>\n",
       "    </tr>\n",
       "    <tr>\n",
       "      <th>4</th>\n",
       "      <td>896</td>\n",
       "      <td>1</td>\n",
       "    </tr>\n",
       "  </tbody>\n",
       "</table>\n",
       "</div>"
      ],
      "text/plain": [
       "   PassengerId  Survived\n",
       "0          892         0\n",
       "1          893         1\n",
       "2          894         0\n",
       "3          895         0\n",
       "4          896         1"
      ]
     },
     "execution_count": 37,
     "metadata": {},
     "output_type": "execute_result"
    }
   ],
   "source": [
    "submission.head()"
   ]
  },
  {
   "cell_type": "markdown",
   "execution_count": null,
   "metadata": {
    "papermill": {
     "duration": 0.03385,
     "end_time": "2020-09-05T12:27:12.435133",
     "exception": false,
     "start_time": "2020-09-05T12:27:12.401283",
     "status": "completed"
    },
    "tags": []
   },
   "source": [
    "- 이제 testset에 대하여 예측을 하고, 결과를 csv 파일로 저장해보겠습니다."
   ]
  },
  {
   "cell_type": "code",
   "execution_count": 38,
   "metadata": {
    "execution": {
     "iopub.execute_input": "2020-09-05T12:27:12.503493Z",
     "iopub.status.busy": "2020-09-05T12:27:12.502169Z",
     "iopub.status.idle": "2020-09-05T12:27:12.526650Z",
     "shell.execute_reply": "2020-09-05T12:27:12.525773Z"
    },
    "papermill": {
     "duration": 0.061409,
     "end_time": "2020-09-05T12:27:12.526862",
     "exception": false,
     "start_time": "2020-09-05T12:27:12.465453",
     "status": "completed"
    },
    "tags": []
   },
   "outputs": [],
   "source": [
    "prediction = model.predict(X_test)\n",
    "submission['Survived'] = prediction"
   ]
  },
  {
   "cell_type": "code",
   "execution_count": 39,
   "metadata": {
    "execution": {
     "iopub.execute_input": "2020-09-05T12:27:12.590287Z",
     "iopub.status.busy": "2020-09-05T12:27:12.589385Z",
     "iopub.status.idle": "2020-09-05T12:27:12.935090Z",
     "shell.execute_reply": "2020-09-05T12:27:12.934209Z"
    },
    "papermill": {
     "duration": 0.37987,
     "end_time": "2020-09-05T12:27:12.935245",
     "exception": false,
     "start_time": "2020-09-05T12:27:12.555375",
     "status": "completed"
    },
    "tags": []
   },
   "outputs": [],
   "source": [
    "submission.to_csv('./my_first_submission.csv', index=False)"
   ]
  },
  {
   "cell_type": "markdown",
   "execution_count": null,
   "metadata": {
    "papermill": {
     "duration": 0.026656,
     "end_time": "2020-09-05T12:27:12.989137",
     "exception": false,
     "start_time": "2020-09-05T12:27:12.962481",
     "status": "completed"
    },
    "tags": []
   },
   "source": [
    "- 이제 캐글에 제출해보도록 합시다."
   ]
  },
  {
   "cell_type": "markdown",
   "execution_count": null,
   "metadata": {
    "papermill": {
     "duration": 0.029374,
     "end_time": "2020-09-05T12:27:13.049056",
     "exception": false,
     "start_time": "2020-09-05T12:27:13.019682",
     "status": "completed"
    },
    "tags": []
   },
   "source": [
    "# 5. Conclusion\n",
    "\n",
    "- 정멀 수고하셨습니다. 여러분은 titanic dataset을 가지고 data science를 경험해보셨습니다.\n",
    "\n",
    "- 이걸로 끝이 아닙니다. 앞으로 배울 것이 너무나 무궁무진합니다.\n",
    "\n",
    "- 좀 더 참신한 feature engineering, 머신 러닝 모델 hyperparameter tunning, ensembling 등, 무궁무진합니다.\n",
    "\n",
    "- 꾸준히 커널공부를 하시면 실력이 꾸준히 늡니다.\n",
    "\n",
    "- 포기하지 마시고 재밌게 하시면 됩니다.\n",
    "\n",
    "<br>\n",
    "\n",
    "- 본 튜토리얼은 https://www.kaggle.com/arthurtok/introduction-to-ensembling-stacking-in-python, https://www.kaggle.com/startupsci/titanic-data-science-solutions, https://www.kaggle.com/ash316/eda-to-prediction-dietanic, https://www.kaggle.com/yassineghouzam/titanic-top-4-with-ensemble-modeling 을 참고하여 만들었습니다. 공유해주신 캐글러께 감사드립니다."
   ]
  }
 ],
 "metadata": {
  "kernelspec": {
   "display_name": "Python 3",
   "language": "python",
   "name": "python3"
  },
  "language_info": {
   "codemirror_mode": {
    "name": "ipython",
    "version": 3
   },
   "file_extension": ".py",
   "mimetype": "text/x-python",
   "name": "python",
   "nbconvert_exporter": "python",
   "pygments_lexer": "ipython3",
   "version": "3.7.6"
  },
  "papermill": {
   "duration": 15.491575,
   "end_time": "2020-09-05T12:27:13.187075",
   "environment_variables": {},
   "exception": null,
   "input_path": "__notebook__.ipynb",
   "output_path": "__notebook__.ipynb",
   "parameters": {},
   "start_time": "2020-09-05T12:26:57.695500",
   "version": "2.1.0"
  }
 },
 "nbformat": 4,
 "nbformat_minor": 4
}
